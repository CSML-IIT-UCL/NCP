{
 "cells": [
  {
   "cell_type": "code",
   "execution_count": 1,
   "metadata": {},
   "outputs": [],
   "source": [
    "%load_ext autoreload\n",
    "%autoreload 2"
   ]
  },
  {
   "cell_type": "code",
   "execution_count": 2,
   "metadata": {},
   "outputs": [],
   "source": [
    "import numpy as np\n",
    "import torch\n",
    "from torch.utils.data import DataLoader\n",
    "from torch.optim import Adam\n",
    "import torchvision.transforms as transforms\n",
    "from torchvision.datasets import MNIST, CIFAR10\n",
    "\n",
    "import matplotlib.pyplot as plt\n",
    "from scipy.stats import norm\n",
    "from NCP.model import NCPOperator, NCPModule\n",
    "from NCP.nn.layers import MLP, ConvMLP\n",
    "from NCP.nn.losses import CMELoss\n",
    "from NCP.metrics import hellinger, kullback_leibler, wasserstein1\n",
    "import lightning as L\n",
    "from NCP.nn.callbacks import LitProgressBar\n",
    "\n",
    "from NCP.examples.tools.plot_utils import setup_plots\n",
    "setup_plots()\n",
    "\n",
    "np.random.seed(0)\n",
    "torch.manual_seed(0)\n",
    "\n",
    "device = 'cuda' if torch.cuda.is_available() else 'cpu'"
   ]
  },
  {
   "cell_type": "code",
   "execution_count": 3,
   "metadata": {},
   "outputs": [
    {
     "name": "stderr",
     "output_type": "stream",
     "text": [
      "Seed set to 0\n"
     ]
    },
    {
     "data": {
      "text/plain": [
       "0"
      ]
     },
     "execution_count": 3,
     "metadata": {},
     "output_type": "execute_result"
    }
   ],
   "source": [
    "L.seed_everything(0)"
   ]
  },
  {
   "cell_type": "code",
   "execution_count": 12,
   "metadata": {},
   "outputs": [],
   "source": [
    "transform = transforms.Compose(\n",
    "    [transforms.ToTensor(),\n",
    "     transforms.Normalize((0.5), (0.5))])"
   ]
  },
  {
   "cell_type": "code",
   "execution_count": 13,
   "metadata": {},
   "outputs": [],
   "source": [
    "batch_size = 4\n",
    "\n",
    "trainset = MNIST(root='./data', train=True,\n",
    "                                        download=True, transform=transform)\n",
    "\n",
    "trainloader = DataLoader(trainset, batch_size=batch_size,\n",
    "                                          shuffle=True, num_workers=2)\n",
    "\n",
    "testset = MNIST(root='./data', train=False,\n",
    "                                       download=True, transform=transform)\n",
    "testloader = DataLoader(testset, batch_size=batch_size,\n",
    "                                         shuffle=False, num_workers=2)\n",
    "\n",
    "classes = ['1', '2', '3', '4','5', '6', '7', '8', '9']"
   ]
  },
  {
   "cell_type": "code",
   "execution_count": 14,
   "metadata": {},
   "outputs": [
    {
     "data": {
      "text/plain": [
       "torch.Size([4, 1, 28, 28])"
      ]
     },
     "execution_count": 14,
     "metadata": {},
     "output_type": "execute_result"
    }
   ],
   "source": [
    "data = next(iter(testloader))\n",
    "input_shape = data[0].size()[-1]"
   ]
  },
  {
   "cell_type": "code",
   "execution_count": null,
   "metadata": {},
   "outputs": [],
   "source": [
    "lr = 1e-3\n",
    "gamma = 1e-2\n",
    "epochs = int(1e4)\n",
    "output_shape = 100\n",
    "\n",
    "MLP_kwargs_U = {\n",
    "    'rgb': False,\n",
    "    'output_shape': output_shape,\n",
    "    'n_hidden': 3,\n",
    "    'layer_size': 128,\n",
    "    'dropout': 0,\n",
    "    'iterative_whitening': False\n",
    "}\n",
    "\n",
    "MLP_kwargs_V = {\n",
    "    'input_shape': input_shape,\n",
    "    'output_shape': output_shape,\n",
    "    'n_hidden': 2,\n",
    "    'layer_size': 128,\n",
    "    'dropout': 0,\n",
    "    'iterative_whitening': False\n",
    "}"
   ]
  },
  {
   "cell_type": "code",
   "execution_count": null,
   "metadata": {},
   "outputs": [],
   "source": [
    "optimizer = Adam\n",
    "optimizer_kwargs = {\n",
    "    'lr': lr\n",
    "    }\n",
    "\n",
    "loss_fn = CMELoss\n",
    "loss_kwargs = {\n",
    "    'mode': 'split',\n",
    "    'gamma': gamma\n",
    "}\n",
    "\n",
    "reg = NCPOperator(U_operator=ConvMLP, V_operator=MLP, U_operator_kwargs=MLP_kwargs_U, V_operator_kwargs=MLP_kwargs_V)\n",
    "\n",
    "NCP_module = NCPModule(\n",
    "    reg,\n",
    "    optimizer,\n",
    "    optimizer_kwargs,\n",
    "    CMELoss,\n",
    "    loss_kwargs\n",
    ")"
   ]
  },
  {
   "cell_type": "code",
   "execution_count": null,
   "metadata": {},
   "outputs": [],
   "source": [
    "\n",
    "trainer = L.Trainer(**{\n",
    "    'accelerator': device,\n",
    "    'max_epochs': epochs,\n",
    "    'log_every_n_steps': 1,\n",
    "    'enable_progress_bar': True,\n",
    "    'devices': 1,\n",
    "}, callbacks=[LitProgressBar()])\n",
    "\n",
    "trainer.fit(NCP_module, train_dataloaders=trainloader)\n",
    "\n",
    "plt.figure(figsize=(17, 8))\n",
    "plt.plot(range(len(NCP_module.train_loss)), np.array(NCP_module.train_loss))\n",
    "plt.plot(range(len(NCP_module.val_loss)), np.array(NCP_module.val_loss), alpha=0.3)\n",
    "plt.show()"
   ]
  },
  {
   "cell_type": "markdown",
   "metadata": {},
   "source": [
    "# CIFAR 10"
   ]
  },
  {
   "cell_type": "code",
   "execution_count": 10,
   "metadata": {},
   "outputs": [
    {
     "name": "stdout",
     "output_type": "stream",
     "text": [
      "Downloading https://www.cs.toronto.edu/~kriz/cifar-10-python.tar.gz to ./data\\cifar-10-python.tar.gz\n"
     ]
    },
    {
     "name": "stderr",
     "output_type": "stream",
     "text": [
      "100%|██████████| 170498071/170498071 [00:07<00:00, 22624532.99it/s]\n"
     ]
    },
    {
     "name": "stdout",
     "output_type": "stream",
     "text": [
      "Extracting ./data\\cifar-10-python.tar.gz to ./data\n",
      "Files already downloaded and verified\n"
     ]
    }
   ],
   "source": [
    "batch_size = 4\n",
    "\n",
    "trainset = CIFAR10(root='./data', train=True,\n",
    "                                        download=True, transform=transform)\n",
    "trainloader = torch.utils.data.DataLoader(trainset, batch_size=batch_size,\n",
    "                                          shuffle=True, num_workers=2)\n",
    "\n",
    "testset = CIFAR10(root='./data', train=False,\n",
    "                                       download=True, transform=transform)\n",
    "testloader = torch.utils.data.DataLoader(testset, batch_size=batch_size,\n",
    "                                         shuffle=False, num_workers=2)\n",
    "\n",
    "classes = ('plane', 'car', 'bird', 'cat',\n",
    "           'deer', 'dog', 'frog', 'horse', 'ship', 'truck')"
   ]
  },
  {
   "cell_type": "code",
   "execution_count": 11,
   "metadata": {},
   "outputs": [
    {
     "data": {
      "text/plain": [
       "torch.Size([4, 3, 32, 32])"
      ]
     },
     "execution_count": 11,
     "metadata": {},
     "output_type": "execute_result"
    }
   ],
   "source": [
    "lr = 1e-3\n",
    "gamma = 1e-2\n",
    "epochs = int(1e4)\n",
    "output_shape = 100\n",
    "\n",
    "MLP_kwargs_U = {\n",
    "    'rgb': False,\n",
    "    'output_shape': output_shape,\n",
    "    'n_hidden': 3,\n",
    "    'layer_size': 128,\n",
    "    'dropout': 0,\n",
    "    'iterative_whitening': False\n",
    "}\n",
    "\n",
    "MLP_kwargs_V = {\n",
    "    'input_shape': input_shape,\n",
    "    'output_shape': output_shape,\n",
    "    'n_hidden': 2,\n",
    "    'layer_size': 128,\n",
    "    'dropout': 0,\n",
    "    'iterative_whitening': False\n",
    "}"
   ]
  },
  {
   "cell_type": "code",
   "execution_count": null,
   "metadata": {},
   "outputs": [],
   "source": [
    "optimizer = Adam\n",
    "optimizer_kwargs = {\n",
    "    'lr': lr\n",
    "    }\n",
    "\n",
    "loss_fn = CMELoss\n",
    "loss_kwargs = {\n",
    "    'mode': 'split',\n",
    "    'gamma': gamma\n",
    "}\n",
    "\n",
    "reg = NCPOperator(U_operator=ConvMLP, V_operator=MLP, U_operator_kwargs=MLP_kwargs_U, V_operator_kwargs=MLP_kwargs_V)\n",
    "\n",
    "NCP_module = NCPModule(\n",
    "    reg,\n",
    "    optimizer,\n",
    "    optimizer_kwargs,\n",
    "    CMELoss,\n",
    "    loss_kwargs\n",
    ")"
   ]
  }
 ],
 "metadata": {
  "kernelspec": {
   "display_name": "koopman",
   "language": "python",
   "name": "python3"
  },
  "language_info": {
   "codemirror_mode": {
    "name": "ipython",
    "version": 3
   },
   "file_extension": ".py",
   "mimetype": "text/x-python",
   "name": "python",
   "nbconvert_exporter": "python",
   "pygments_lexer": "ipython3",
   "version": "3.12.2"
  }
 },
 "nbformat": 4,
 "nbformat_minor": 2
}
