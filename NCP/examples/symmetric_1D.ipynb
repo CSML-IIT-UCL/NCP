{
 "cells": [
  {
   "cell_type": "code",
   "metadata": {
    "ExecuteTime": {
     "end_time": "2024-12-18T16:13:50.336168Z",
     "start_time": "2024-12-18T16:13:50.324635Z"
    }
   },
   "source": [
    "%load_ext autoreload\n",
    "%autoreload 2"
   ],
   "outputs": [],
   "execution_count": 1
  },
  {
   "metadata": {
    "ExecuteTime": {
     "end_time": "2024-12-18T16:13:50.352955Z",
     "start_time": "2024-12-18T16:13:50.343027Z"
    }
   },
   "cell_type": "code",
   "source": [
    "import NCP\n",
    "import numpy as np\n",
    "import matplotlib.pyplot as plt\n",
    "import seaborn as sns\n",
    "from scipy.stats import norm, multivariate_normal"
   ],
   "outputs": [],
   "execution_count": 2
  },
  {
   "metadata": {},
   "cell_type": "markdown",
   "source": "# Example symmetric conditional expectation and density estimation\n"
  },
  {
   "metadata": {},
   "cell_type": "markdown",
   "source": "This toy examples studies the problem of conditional density estimation and conditional expectation in the presence of symmetries in the marginals and in the joint probability distributions\n"
  },
  {
   "metadata": {
    "ExecuteTime": {
     "end_time": "2024-12-18T16:13:57.013840Z",
     "start_time": "2024-12-18T16:13:56.919454Z"
    }
   },
   "cell_type": "code",
   "source": [
    "def marginal_x(means, covariances, weights):\n",
    "    \"\"\"\n",
    "    Creates a Gaussian mixture distribution in R. With reflectional symmetry.\n",
    "    That is p(x) = p(-x).\n",
    "\n",
    "    Args:\n",
    "        means (list of float): Means of the Gaussian components.\n",
    "        covariances (list of float): Variances of the Gaussian components.\n",
    "        weights (list of float): Weights of the Gaussian components.\n",
    "\n",
    "    Returns:\n",
    "        function: A function that computes the PDF and samples from the mixture.\n",
    "    \"\"\"\n",
    "    # TODO: symmetrize.\n",
    "    components = [norm(loc=mean, scale=np.sqrt(cov)) for mean, cov in zip(means, covariances)]\n",
    "\n",
    "    def pdf(x):  # Marginal PDF\n",
    "        return sum(weight * component.pdf(x) for weight, component in zip(weights, components))\n",
    "\n",
    "    def sample(size):\n",
    "        component_choices = np.random.choice(len(weights), size=size, p=weights)\n",
    "        samples = [components[i].rvs() for i in component_choices]\n",
    "        return np.asarray(samples)\n",
    "\n",
    "    assert np.isclose(pdf(-1), pdf(1)), f\"p(1)={pdf(-1)}!=p(-1)={pdf(1)}\"\n",
    "\n",
    "    return pdf, sample\n",
    "\n",
    "def marginal_y(pdf_x):\n",
    "    \"\"\"\n",
    "    Creates a conditional distribution p(y|x) = p(x) / |dy/dx|.\n",
    "    Where y = 0.5 * x^3. And if p(x) posses C2 symmetry, then p(y) will also possess C2 symmetry.\n",
    "\n",
    "    Args:\n",
    "        pdf_x (function): The marginal PDF p(x).\n",
    "\n",
    "    Returns:\n",
    "        pdf_y, y_sampler: The conditional PDF p(y|x) and a sampler for y.\n",
    "    \"\"\"\n",
    "    def transport_fn(x):\n",
    "        return 0.5 * x**3\n",
    "\n",
    "    def pdf(y): # Marginal PDF.\n",
    "        # Inverse of the transport function\n",
    "        x_inv = (2 * y) ** (1/3)\n",
    "        return pdf_x(x_inv) / np.abs(1.5 * x_inv**2)\n",
    "\n",
    "    def cond_pdf(x) -> callable([float], float):\n",
    "        \"\"\" return the conditional pdf p(y|x) as a callable accepting x \"\"\"\n",
    "\n",
    "    return pdf, transport_fn\n",
    "\n",
    "# Example setup: Gaussian mixture with reflectional symmetry\n",
    "means = [-4, 0, 4]\n",
    "covariances = [0.4, 0.2, 0.4]\n",
    "weights = [0.3, 0.1, 0.3]\n",
    "weights /= np.sum(weights)\n",
    "\n",
    "x_pdf, x_sampler = marginal_x(means, covariances, weights)\n",
    "x_samples = x_sampler(5000)\n",
    "y_pdf, transport_fn = marginal_y(x_pdf)\n",
    "y_samples = transport_fn(x_samples)\n",
    "x_range = (np.min(x_samples), np.max(x_samples))\n",
    "y_range = (np.min(y_samples), np.max(y_samples))"
   ],
   "outputs": [
    {
     "ename": "TypeError",
     "evalue": "callable() takes exactly one argument (2 given)",
     "output_type": "error",
     "traceback": [
      "\u001B[0;31m---------------------------------------------------------------------------\u001B[0m",
      "\u001B[0;31mTypeError\u001B[0m                                 Traceback (most recent call last)",
      "Cell \u001B[0;32mIn[4], line 61\u001B[0m\n\u001B[1;32m     59\u001B[0m x_pdf, x_sampler \u001B[38;5;241m=\u001B[39m marginal_x(means, covariances, weights)\n\u001B[1;32m     60\u001B[0m x_samples \u001B[38;5;241m=\u001B[39m x_sampler(\u001B[38;5;241m5000\u001B[39m)\n\u001B[0;32m---> 61\u001B[0m y_pdf, transport_fn \u001B[38;5;241m=\u001B[39m \u001B[43mmarginal_y\u001B[49m\u001B[43m(\u001B[49m\u001B[43mx_pdf\u001B[49m\u001B[43m)\u001B[49m\n\u001B[1;32m     62\u001B[0m y_samples \u001B[38;5;241m=\u001B[39m transport_fn(x_samples)\n\u001B[1;32m     63\u001B[0m x_range \u001B[38;5;241m=\u001B[39m (np\u001B[38;5;241m.\u001B[39mmin(x_samples), np\u001B[38;5;241m.\u001B[39mmax(x_samples))\n",
      "Cell \u001B[0;32mIn[4], line 48\u001B[0m, in \u001B[0;36mmarginal_y\u001B[0;34m(pdf_x)\u001B[0m\n\u001B[1;32m     45\u001B[0m     x_inv \u001B[38;5;241m=\u001B[39m (\u001B[38;5;241m2\u001B[39m \u001B[38;5;241m*\u001B[39m y) \u001B[38;5;241m*\u001B[39m\u001B[38;5;241m*\u001B[39m (\u001B[38;5;241m1\u001B[39m\u001B[38;5;241m/\u001B[39m\u001B[38;5;241m3\u001B[39m)\n\u001B[1;32m     46\u001B[0m     \u001B[38;5;28;01mreturn\u001B[39;00m pdf_x(x_inv) \u001B[38;5;241m/\u001B[39m np\u001B[38;5;241m.\u001B[39mabs(\u001B[38;5;241m1.5\u001B[39m \u001B[38;5;241m*\u001B[39m x_inv\u001B[38;5;241m*\u001B[39m\u001B[38;5;241m*\u001B[39m\u001B[38;5;241m2\u001B[39m)\n\u001B[0;32m---> 48\u001B[0m \u001B[38;5;28;01mdef\u001B[39;00m \u001B[38;5;21mcond_pdf\u001B[39m(x) \u001B[38;5;241m-\u001B[39m\u001B[38;5;241m>\u001B[39m \u001B[38;5;28;43mcallable\u001B[39;49m\u001B[43m(\u001B[49m\u001B[43m[\u001B[49m\u001B[38;5;28;43mfloat\u001B[39;49m\u001B[43m]\u001B[49m\u001B[43m,\u001B[49m\u001B[43m \u001B[49m\u001B[38;5;28;43mfloat\u001B[39;49m\u001B[43m)\u001B[49m:\n\u001B[1;32m     49\u001B[0m \u001B[38;5;250m    \u001B[39m\u001B[38;5;124;03m\"\"\" return the conditional pdf p(y|x) as a callable accepting x \"\"\"\u001B[39;00m\n\u001B[1;32m     51\u001B[0m \u001B[38;5;28;01mreturn\u001B[39;00m pdf, transport_fn\n",
      "\u001B[0;31mTypeError\u001B[0m: callable() takes exactly one argument (2 given)"
     ]
    }
   ],
   "execution_count": 4
  },
  {
   "metadata": {
    "ExecuteTime": {
     "end_time": "2024-12-17T11:31:44.077721Z",
     "start_time": "2024-12-17T11:31:42.271853Z"
    }
   },
   "cell_type": "code",
   "source": [
    "# Plotting the results\n",
    "sns.set(style=\"white\")\n",
    "\n",
    "# Create a figure with joint 2D and marginal plots\n",
    "fig = plt.figure(figsize=(10, 8))\n",
    "grid = sns.JointGrid()\n",
    "# Joint KDE plot\n",
    "sns.kdeplot(x=x_samples, y=y_samples, fill=True, ax=grid.ax_joint, cmap=\"Blues\")\n",
    "# Marginal of p(x)\n",
    "x_vals = np.linspace(min(x_samples), max(y_samples), 500)\n",
    "x_pdf_vals = x_pdf(x_vals)\n",
    "# Marginal of p(y) -- KDE for Y with symmetry adjustment\n",
    "sns.kdeplot(x=x_samples, ax=grid.ax_marg_x, fill=True)\n",
    "sns.kdeplot(y=y_samples, ax=grid.ax_marg_y, fill=True)\n",
    "# Plot the point x=(-4,4) and y(transport_fn(-4), transport_fn(4))\n",
    "x_test = 4\n",
    "grid.ax_joint.plot([-x_test, x_test], [transport_fn(-x_test), transport_fn(x_test)], 'ro')\n",
    "# draw slightly transparent vertical lines at x_test and -x_test\n",
    "grid.ax_joint.axvline(x_test, color='r', alpha=0.3)\n",
    "grid.ax_joint.axvline(-x_test, color='r', alpha=0.3)\n",
    "\n",
    "# Set x ticks only to the test points with labels\n",
    "grid.ax_joint.set_xticks([-x_test, x_test])\n",
    "grid.ax_joint.set_xticklabels([r\"$x$\", r\"$g \\;\\triangleright_{\\mathcal{X}}\\; x$\"])\n",
    "# Set y ticks only to the test points with labels\n",
    "grid.ax_joint.set_yticks([transport_fn(-x_test), transport_fn(x_test)])\n",
    "grid.ax_joint.set_yticklabels([r\"$y$\", r\"$g \\;\\triangleright_{\\mathcal{Y}}\\; y$\"])\n",
    "\n",
    "# Customizing labels\n",
    "grid.ax_joint.set_xlabel(r\"$\\mathcal{X}$\")\n",
    "grid.ax_joint.set_ylabel(r\"$\\mathcal{Y}$\")\n",
    "grid.ax_marg_x.set_xlabel(r\"$p(\\textnormal{x})$\")\n",
    "grid.ax_marg_y.set_ylabel(r\"$p(\\textnormal{y})$\")\n",
    "\n",
    "plt.show()"
   ],
   "outputs": [
    {
     "data": {
      "text/plain": [
       "<Figure size 1000x800 with 0 Axes>"
      ]
     },
     "metadata": {},
     "output_type": "display_data"
    },
    {
     "data": {
      "text/plain": [
       "<Figure size 600x600 with 3 Axes>"
      ],
      "image/png": "[encoded data removed]"
     },
     "metadata": {},
     "output_type": "display_data"
    }
   ],
   "execution_count": 92
  },
  {
   "metadata": {},
   "cell_type": "code",
   "outputs": [],
   "execution_count": null,
   "source": ""
  }
 ],
 "metadata": {
  "kernelspec": {
   "display_name": "Python 3.11.7 ('base')",
   "language": "python",
   "name": "python3"
  },
  "language_info": {
   "codemirror_mode": {
    "name": "ipython",
    "version": 3
   },
   "file_extension": ".py",
   "mimetype": "text/x-python",
   "name": "python",
   "nbconvert_exporter": "python",
   "pygments_lexer": "ipython3",
   "version": "3.12.2"
  },
  "orig_nbformat": 4,
  "vscode": {
   "interpreter": {
    "hash": "e542855efea805fdeadee4820e6ce227faa7a8bdadff91341a1dace35c99799c"
   }
  }
 },
 "nbformat": 4,
 "nbformat_minor": 2
}
