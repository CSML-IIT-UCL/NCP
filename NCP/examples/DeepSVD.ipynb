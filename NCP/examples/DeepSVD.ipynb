{
 "cells": [
  {
   "cell_type": "code",
   "execution_count": 1,
   "metadata": {},
   "outputs": [
    {
     "ename": "ImportError",
     "evalue": "cannot import name 'cme_score' from 'NCP.nn.functional' (/Users/gregoirepacreau/Documents/NCP/NCP/nn/functional.py)",
     "output_type": "error",
     "traceback": [
      "\u001b[0;31m---------------------------------------------------------------------------\u001b[0m",
      "\u001b[0;31mImportError\u001b[0m                               Traceback (most recent call last)",
      "Cell \u001b[0;32mIn[1], line 13\u001b[0m\n\u001b[1;32m     10\u001b[0m \u001b[38;5;28;01mimport\u001b[39;00m \u001b[38;5;21;01mos\u001b[39;00m\n\u001b[1;32m     11\u001b[0m \u001b[38;5;28;01mimport\u001b[39;00m \u001b[38;5;21;01mmatplotlib\u001b[39;00m\u001b[38;5;21;01m.\u001b[39;00m\u001b[38;5;21;01mpyplot\u001b[39;00m \u001b[38;5;28;01mas\u001b[39;00m \u001b[38;5;21;01mplt\u001b[39;00m\n\u001b[0;32m---> 13\u001b[0m \u001b[38;5;28;01mfrom\u001b[39;00m \u001b[38;5;21;01mNCP\u001b[39;00m\u001b[38;5;21;01m.\u001b[39;00m\u001b[38;5;21;01mmodel\u001b[39;00m \u001b[38;5;28;01mimport\u001b[39;00m DeepSVD\n\u001b[1;32m     15\u001b[0m np\u001b[38;5;241m.\u001b[39mrandom\u001b[38;5;241m.\u001b[39mseed(\u001b[38;5;241m0\u001b[39m)\n\u001b[1;32m     16\u001b[0m torch\u001b[38;5;241m.\u001b[39mmanual_seed(\u001b[38;5;241m0\u001b[39m)\n",
      "File \u001b[0;32m~/Documents/NCP/NCP/model.py:9\u001b[0m\n\u001b[1;32m      6\u001b[0m \u001b[39mimport\u001b[39;00m \u001b[39mnumpy\u001b[39;00m \u001b[39mas\u001b[39;00m \u001b[39mnp\u001b[39;00m\n\u001b[1;32m      8\u001b[0m \u001b[39mfrom\u001b[39;00m \u001b[39mNCP\u001b[39;00m\u001b[39m.\u001b[39;00m\u001b[39mlayers\u001b[39;00m \u001b[39mimport\u001b[39;00m SingularLayer\n\u001b[0;32m----> 9\u001b[0m \u001b[39mfrom\u001b[39;00m \u001b[39mNCP\u001b[39;00m\u001b[39m.\u001b[39;00m\u001b[39mnn\u001b[39;00m\u001b[39m.\u001b[39;00m\u001b[39mlosses\u001b[39;00m \u001b[39mimport\u001b[39;00m CMELoss\n\u001b[1;32m     11\u001b[0m \u001b[39mclass\u001b[39;00m \u001b[39mDeepSVD\u001b[39;00m:\n\u001b[1;32m     12\u001b[0m     \u001b[39m# ideally, entries should be int\u001b[39;00m\n\u001b[1;32m     13\u001b[0m     \u001b[39mdef\u001b[39;00m \u001b[39m__init__\u001b[39m(\u001b[39mself\u001b[39m, U_operator:Module, V_operator:Module, layer_size, output_shape, gamma\u001b[39m=\u001b[39m\u001b[39m0.\u001b[39m):\n",
      "File \u001b[0;32m~/Documents/NCP/NCP/nn/losses.py:3\u001b[0m\n\u001b[1;32m      1\u001b[0m \u001b[39mimport\u001b[39;00m \u001b[39mtorch\u001b[39;00m\n\u001b[0;32m----> 3\u001b[0m \u001b[39mfrom\u001b[39;00m \u001b[39mNCP\u001b[39;00m\u001b[39m.\u001b[39;00m\u001b[39mnn\u001b[39;00m\u001b[39m.\u001b[39;00m\u001b[39mfunctional\u001b[39;00m \u001b[39mimport\u001b[39;00m cme_score\n\u001b[1;32m      4\u001b[0m \u001b[39mfrom\u001b[39;00m \u001b[39mNCP\u001b[39;00m\u001b[39m.\u001b[39;00m\u001b[39mlayers\u001b[39;00m \u001b[39mimport\u001b[39;00m SingularLayer\n\u001b[1;32m      6\u001b[0m \u001b[39mclass\u001b[39;00m \u001b[39mCMELoss\u001b[39;00m():\n",
      "\u001b[0;31mImportError\u001b[0m: cannot import name 'cme_score' from 'NCP.nn.functional' (/Users/gregoirepacreau/Documents/NCP/NCP/nn/functional.py)"
     ]
    }
   ],
   "source": [
    "import numpy as np\n",
    "import torch\n",
    "from torch.nn import Sequential, ReLU, Linear, Conv1d, LSTM, RNN, Dropout\n",
    "from torch.nn import Module\n",
    "from torch.optim import Adam\n",
    "from sklearn.model_selection import train_test_split\n",
    "from sklearn.gaussian_process import GaussianProcessRegressor   \n",
    "from sklearn.preprocessing import StandardScaler\n",
    "from tqdm import tqdm\n",
    "import os\n",
    "import matplotlib.pyplot as plt\n",
    "\n",
    "from NCP.model import DeepSVD\n",
    "from NCP.layers import SingularLayer, MLPOperator\n",
    "\n",
    "np.random.seed(0)\n",
    "torch.manual_seed(0)\n",
    "Ntrain = 1000\n",
    "Nval = 1000\n",
    "Ntest = 1000"
   ]
  },
  {
   "cell_type": "code",
   "execution_count": null,
   "metadata": {},
   "outputs": [],
   "source": [
    "\n",
    "X = np.random.uniform(-5, 5, Ntrain+Nval+Ntest)\n",
    "Y = 5*X+3 + np.random.normal(0,1, X.shape[0])\n",
    "\n",
    "\n",
    "X = X.reshape((-1, 1))\n",
    "Y = Y.reshape((-1, 1))\n",
    "\n",
    "xscaler = StandardScaler()\n",
    "yscaler = StandardScaler()\n",
    "Xtransformed = xscaler.fit_transform(X)\n",
    "Ytransformed = yscaler.fit_transform(Y)\n",
    "\n",
    "X_train, X_test, Y_train, Y_test = train_test_split(Xtransformed, Ytransformed, test_size=Ntest, random_state=1)\n",
    "\n",
    "X_train, X_val, Y_train, Y_val = train_test_split(X_train, Y_train, test_size=Nval, random_state=1)"
   ]
  },
  {
   "cell_type": "code",
   "execution_count": null,
   "metadata": {},
   "outputs": [],
   "source": [
    "plt.scatter(X_train, Y_train, alpha=0.5)\n",
    "plt.scatter(X_val, Y_val, color='green', alpha=0.3)\n",
    "plt.scatter(X_test, Y_test, color='red', alpha=0.3)\n",
    "plt.legend(['train', 'val', 'test'])\n",
    "plt.show()"
   ]
  },
  {
   "cell_type": "code",
   "execution_count": null,
   "metadata": {},
   "outputs": [],
   "source": [
    "input_shape = X_train.shape[-1]\n",
    "output_shape = 2\n",
    "n_hidden = 0\n",
    "layer_size = []\n",
    "\n",
    "U_operator = MLPOperator(input_shape, n_hidden, layer_size, output_shape)\n",
    "V_operator = MLPOperator(input_shape, n_hidden, layer_size, output_shape)\n",
    "\n",
    "optimizer = Adam\n",
    "optimizer_kwargs = {\n",
    "    'lr': 1e-3\n",
    "    }"
   ]
  },
  {
   "cell_type": "code",
   "execution_count": null,
   "metadata": {},
   "outputs": [],
   "source": [
    "reg = DeepSVD(U_operator, V_operator, output_shape, gamma=0.)\n",
    "reg.fit(X_train, Y_train, X_val, Y_val, epochs=int(1e5), optimizer=optimizer, optimizer_kwargs=optimizer_kwargs)\n",
    "\n",
    "ls = reg.get_losses()\n",
    "plt.figure(figsize=(17, 8))\n",
    "plt.scatter(range(len(ls)), np.array(ls))\n",
    "plt.scatter(range(len(ls)), np.array(reg.get_val_losses()), alpha=0.3)\n",
    "plt.yscale('log')"
   ]
  },
  {
   "cell_type": "code",
   "execution_count": null,
   "metadata": {},
   "outputs": [],
   "source": [
    "pred = reg.predict(X_train).reshape(-1, 1)\n",
    "\n",
    "plt.scatter(X_train, Y_train, color='r', alpha=0.3)\n",
    "plt.scatter(X_train, pred, alpha=0.5)\n",
    "plt.show()"
   ]
  }
 ],
 "metadata": {
  "kernelspec": {
   "display_name": "Python 3.11.7 ('base')",
   "language": "python",
   "name": "python3"
  },
  "language_info": {
   "codemirror_mode": {
    "name": "ipython",
    "version": 3
   },
   "file_extension": ".py",
   "mimetype": "text/x-python",
   "name": "python",
   "nbconvert_exporter": "python",
   "pygments_lexer": "ipython3",
   "version": "3.11.7"
  },
  "orig_nbformat": 4,
  "vscode": {
   "interpreter": {
    "hash": "e542855efea805fdeadee4820e6ce227faa7a8bdadff91341a1dace35c99799c"
   }
  }
 },
 "nbformat": 4,
 "nbformat_minor": 2
}
