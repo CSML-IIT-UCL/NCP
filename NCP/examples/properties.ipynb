{
 "cells": [
  {
   "cell_type": "markdown",
   "metadata": {},
   "source": [
    "# properties of the learned representation functions"
   ]
  },
  {
   "cell_type": "code",
   "execution_count": null,
   "metadata": {},
   "outputs": [],
   "source": []
  }
 ],
 "metadata": {
  "kernelspec": {
   "display_name": "Python 3.11.7 ('base')",
   "language": "python",
   "name": "python3"
  },
  "language_info": {
   "name": "python",
   "version": "3.11.7"
  },
  "orig_nbformat": 4,
  "vscode": {
   "interpreter": {
    "hash": "e542855efea805fdeadee4820e6ce227faa7a8bdadff91341a1dace35c99799c"
   }
  }
 },
 "nbformat": 4,
 "nbformat_minor": 2
}
