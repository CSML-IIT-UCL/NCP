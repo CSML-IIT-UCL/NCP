{
 "cells": [
  {
   "cell_type": "code",
   "execution_count": 1,
   "metadata": {},
   "outputs": [],
   "source": [
    "from time import time\n",
    "\n",
    "import lightning as L\n",
    "import matplotlib.pyplot as plt\n",
    "import numpy as np\n",
    "import torch\n",
    "from lightning.pytorch.callbacks.early_stopping import EarlyStopping\n",
    "from lightning.pytorch.callbacks.model_checkpoint import ModelCheckpoint\n",
    "from torch.optim import Adam\n",
    "\n",
    "from NCP.examples.tools.plot_utils import setup_plots\n",
    "from NCP.metrics import kolmogorov_smirnov, smooth_cdf\n",
    "from NCP.models.ncp import NCPModule, NCPOperator\n",
    "\n",
    "#import normflows as nf\n",
    "# diffusion model imports:\n",
    "from NCP.nn.layers import MLP\n",
    "from NCP.nn.losses import CMELoss\n",
    "from NCP.utils import FastTensorDataLoader, from_np\n",
    "\n",
    "setup_plots()\n",
    "\n",
    "# TODO: add them to a utils folder\n",
    "class CustomModelCheckpoint(ModelCheckpoint):\n",
    "    def on_save_checkpoint(self, trainer, pl_module, checkpoint):\n",
    "        X, Y = trainer.model.batch\n",
    "        trainer.model.model._compute_data_statistics(X, Y)\n",
    "\n",
    "def restore_buffers_shape(model, state_dict):\n",
    "    model._sing_val = torch.zeros_like(state_dict['model._sing_val']).to('cpu')\n",
    "    model._sing_vec_l = torch.zeros_like(state_dict['model._sing_vec_l']).to('cpu')\n",
    "    model._sing_vec_r = torch.zeros_like(state_dict['model._sing_vec_r']).to('cpu')\n",
    "\n",
    "\n",
    "np.random.seed(0)\n",
    "torch.manual_seed(0)\n",
    "Ntrain = 50000\n",
    "Nval = 1000         # val dataset will be used to sample the marginal distribution of Y\n",
    "Ntest = 1000\n",
    "\n",
    "device = 'cuda' if torch.cuda.is_available() else 'cpu'\n",
    "\n",
    "NEXP = 5"
   ]
  },
  {
   "cell_type": "code",
   "execution_count": 2,
   "metadata": {},
   "outputs": [],
   "source": [
    "# Common optimizer\n",
    "lr = 1e-3\n",
    "\n",
    "optimizer = Adam\n",
    "optimizer_kwargs = {\n",
    "        'lr': lr\n",
    "        }"
   ]
  },
  {
   "cell_type": "code",
   "execution_count": 3,
   "metadata": {},
   "outputs": [],
   "source": [
    "\n",
    "from scipy.stats import norm\n",
    "from scipy.stats import special_ortho_group as sog\n",
    "\n",
    "\n",
    "def create_manifold_dataset(N, d, H, noise, rng=None):\n",
    "\n",
    "    thetas = np.random.uniform(0, 2*np.pi, N)\n",
    "\n",
    "    X_low_dim = np.concatenate([np.cos(thetas).reshape(-1,1), np.sin(thetas).reshape(-1, 1)], axis=-1)\n",
    "\n",
    "    if noise:\n",
    "        X_low_dim * np.random.uniform(-1.5, 1, N)\n",
    "    X = np.concatenate([X_low_dim, np.zeros((N, d-2))], axis=-1) @ H\n",
    "\n",
    "    Y = np.zeros((X.shape[0], 1))\n",
    "    for i, xi in enumerate(X):\n",
    "        #Y[i] = thetas[i] + 0.01*np.random.standard_cauchy() # cauchy\n",
    "        #Y[i] = t.rvs(4, loc=thetas[i], scale=1)\n",
    "        #Y[i] = norm.rvs(loc=thetas[i], scale=0.1) % (2*np.pi) # one or the other\n",
    "        Y[i] = norm.rvs(loc=thetas[i], scale=np.sin(thetas[i]/2))\n",
    "\n",
    "    Y = Y.reshape((-1,1))\n",
    "\n",
    "    return X,Y, thetas"
   ]
  },
  {
   "cell_type": "code",
   "execution_count": 4,
   "metadata": {},
   "outputs": [],
   "source": [
    "def train_model(X_train, Y_train, train_dl, val_dl):\n",
    "    best_models = {}\n",
    "    times_ncp = np.zeros(NEXP)\n",
    "\n",
    "    for exp in range(NEXP):\n",
    "\n",
    "        L.seed_everything(exp)\n",
    "\n",
    "        gamma = 1e-3\n",
    "        epochs = int(1e3)\n",
    "        output_shape = 500\n",
    "\n",
    "        MLP_kwargs_U = {\n",
    "            'input_shape': X_train.shape[-1],\n",
    "            'output_shape': output_shape,\n",
    "            'n_hidden': 3,\n",
    "            'layer_size': 128,\n",
    "            'dropout': 0.,\n",
    "            'iterative_whitening': False,\n",
    "            'activation': torch.nn.ReLU\n",
    "        }\n",
    "\n",
    "        MLP_kwargs_V = {\n",
    "            'input_shape': Y_train.shape[-1],\n",
    "            'output_shape': output_shape,\n",
    "            'n_hidden': 3,\n",
    "            'layer_size':128,\n",
    "            'dropout': 0,\n",
    "            'iterative_whitening': False,\n",
    "            'activation': torch.nn.ReLU\n",
    "        }\n",
    "\n",
    "        loss_kwargs = {\n",
    "            'mode': 'split',\n",
    "            'gamma': gamma\n",
    "        }\n",
    "\n",
    "        reg = NCPOperator(U_operator=MLP, V_operator=MLP, U_operator_kwargs=MLP_kwargs_U, V_operator_kwargs=MLP_kwargs_V)\n",
    "\n",
    "        NCP_module = NCPModule(\n",
    "            reg,\n",
    "            optimizer,\n",
    "            optimizer_kwargs,\n",
    "            CMELoss,\n",
    "            loss_kwargs\n",
    "        )\n",
    "\n",
    "        early_stop = EarlyStopping(monitor=\"val_loss\", patience=300, mode=\"min\")\n",
    "        checkpoint_callback = CustomModelCheckpoint(save_top_k=1, monitor=\"val_loss\", mode=\"min\")\n",
    "\n",
    "        trainer = L.Trainer(**{\n",
    "            'accelerator': device,\n",
    "            'max_epochs': epochs,\n",
    "            'log_every_n_steps': 1,\n",
    "            'enable_progress_bar': True,\n",
    "            'devices': 1,\n",
    "            'enable_checkpointing': True,\n",
    "            'num_sanity_val_steps': 0,\n",
    "            'enable_model_summary': False,\n",
    "            }, callbacks=[checkpoint_callback])\n",
    "\n",
    "        start_time = time()\n",
    "        trainer.fit(NCP_module, train_dataloaders=train_dl, val_dataloaders=val_dl)\n",
    "        times_ncp[exp] = time()-start_time\n",
    "\n",
    "        # recover best model during training\n",
    "        best_model_dict = torch.load(checkpoint_callback.best_model_path)\n",
    "        restore_buffers_shape(reg, best_model_dict['state_dict'])\n",
    "        NCP_module.load_state_dict(best_model_dict['state_dict'])\n",
    "        best_models[exp] = NCP_module.model\n",
    "\n",
    "        del NCP_module\n",
    "        del reg\n",
    "    return best_models, times_ncp"
   ]
  },
  {
   "cell_type": "code",
   "execution_count": 5,
   "metadata": {},
   "outputs": [],
   "source": [
    "def manifold_cdf(theta, fys):\n",
    "    return norm.cdf(fys, loc=theta, scale=np.sin(theta/2))\n",
    "\n",
    "def compute_res(d):\n",
    "    noisy=False\n",
    "\n",
    "    H = sog.rvs(d)\n",
    "\n",
    "    X_train, Y_train, thetas_train = create_manifold_dataset(Ntrain, d, H, noisy)\n",
    "    X_val, Y_val, thetas_val = create_manifold_dataset(Nval, d, H, noisy)\n",
    "\n",
    "    X_train_torch = from_np(X_train)\n",
    "    Y_train_torch = from_np(Y_train)\n",
    "    X_val_torch = from_np(X_val)\n",
    "    Y_val_torch = from_np(Y_val)\n",
    "\n",
    "    train_dl = FastTensorDataLoader(X_train_torch, Y_train_torch, batch_size=len(X_train_torch), shuffle=False)\n",
    "    val_dl = FastTensorDataLoader(X_val_torch, Y_val_torch, batch_size=len(X_val_torch), shuffle=False)\n",
    "\n",
    "    best_models, times_ncp = train_model(X_train, Y_train, train_dl, val_dl)\n",
    "\n",
    "    x1 = [1, 1.57, 2, 3.14, 4, 5]\n",
    "\n",
    "    p1, p99 = np.percentile(Y_train, [1, 99])\n",
    "    y_discr, step = np.linspace(p1, p99, num=1000, retstep=True)\n",
    "    y_discr_torch = torch.Tensor(y_discr.reshape((-1, 1)))\n",
    "\n",
    "    ks_dist_ncp = np.zeros((len(x1), NEXP))\n",
    "\n",
    "    for i, xi in enumerate(x1):\n",
    "        #x_scaled = torch.Tensor(xscaler.transform([x]))\n",
    "        x = np.array([np.cos(xi), np.sin(xi)])\n",
    "        x_scaled = torch.Tensor([np.concatenate([x, np.zeros((d-2))]) @ H])\n",
    "\n",
    "        our_cdfs = np.zeros((NEXP, y_discr.shape[0]))\n",
    "\n",
    "        for exp in range(NEXP):\n",
    "            ys, cdf_pred_center = best_models[exp].cdf(x_scaled, y_discr_torch, postprocess='whitening')\n",
    "            our_cdfs[exp] = smooth_cdf(ys, cdf_pred_center)\n",
    "\n",
    "            #fys = yscaler.inverse_transform(ys.reshape([-1, 1])).flatten()\n",
    "            fys = ys.copy()\n",
    "\n",
    "        true_cdf = manifold_cdf(xi, fys)\n",
    "\n",
    "        for exp in range(NEXP):\n",
    "            #print(np.isnan(nf_cdfs[exp]).sum())\n",
    "            ks_dist_ncp[i, exp] = kolmogorov_smirnov(true_cdf, our_cdfs[exp], values=fys)\n",
    "\n",
    "    del best_models\n",
    "\n",
    "    return times_ncp, ks_dist_ncp"
   ]
  },
  {
   "cell_type": "code",
   "execution_count": 6,
   "metadata": {},
   "outputs": [
    {
     "name": "stderr",
     "output_type": "stream",
     "text": [
      "Seed set to 0\n",
      "GPU available: True (cuda), used: True\n",
      "TPU available: False, using: 0 TPU cores\n",
      "IPU available: False, using: 0 IPUs\n",
      "HPU available: False, using: 0 HPUs\n",
      "d:\\Gregoire\\anaconda3\\envs\\koopman\\Lib\\site-packages\\lightning\\pytorch\\trainer\\connectors\\logger_connector\\logger_connector.py:75: Starting from v1.9.0, `tensorboardX` has been removed as a dependency of the `lightning.pytorch` package, due to potential conflicts with other packages in the ML ecosystem. For this reason, `logger=True` will use `CSVLogger` as the default logger, unless the `tensorboard` or `tensorboardX` packages are found. Please `pip install lightning[extra]` or one of them to enable TensorBoard support by default\n",
      "LOCAL_RANK: 0 - CUDA_VISIBLE_DEVICES: [0]\n"
     ]
    },
    {
     "name": "stdout",
     "output_type": "stream",
     "text": [
      "Epoch 999: 100%|██████████| 1/1 [00:00<00:00,  8.15it/s, v_num=391, val_loss=-1.72, train_loss=-1.81]     "
     ]
    },
    {
     "name": "stderr",
     "output_type": "stream",
     "text": [
      "`Trainer.fit` stopped: `max_epochs=1000` reached.\n"
     ]
    },
    {
     "name": "stdout",
     "output_type": "stream",
     "text": [
      "Epoch 999: 100%|██████████| 1/1 [00:00<00:00,  7.96it/s, v_num=391, val_loss=-1.72, train_loss=-1.81]\n"
     ]
    },
    {
     "name": "stderr",
     "output_type": "stream",
     "text": [
      "Seed set to 1\n",
      "GPU available: True (cuda), used: True\n",
      "TPU available: False, using: 0 TPU cores\n",
      "IPU available: False, using: 0 IPUs\n",
      "HPU available: False, using: 0 HPUs\n",
      "LOCAL_RANK: 0 - CUDA_VISIBLE_DEVICES: [0]\n"
     ]
    },
    {
     "name": "stdout",
     "output_type": "stream",
     "text": [
      "Epoch 999: 100%|██████████| 1/1 [00:00<00:00,  8.36it/s, v_num=392, val_loss=-1.94, train_loss=-2.14]      "
     ]
    },
    {
     "name": "stderr",
     "output_type": "stream",
     "text": [
      "`Trainer.fit` stopped: `max_epochs=1000` reached.\n"
     ]
    },
    {
     "name": "stdout",
     "output_type": "stream",
     "text": [
      "Epoch 999: 100%|██████████| 1/1 [00:00<00:00,  8.09it/s, v_num=392, val_loss=-1.94, train_loss=-2.14]\n"
     ]
    },
    {
     "name": "stderr",
     "output_type": "stream",
     "text": [
      "Seed set to 2\n",
      "GPU available: True (cuda), used: True\n",
      "TPU available: False, using: 0 TPU cores\n",
      "IPU available: False, using: 0 IPUs\n",
      "HPU available: False, using: 0 HPUs\n",
      "LOCAL_RANK: 0 - CUDA_VISIBLE_DEVICES: [0]\n"
     ]
    },
    {
     "name": "stdout",
     "output_type": "stream",
     "text": [
      "Epoch 999: 100%|██████████| 1/1 [00:00<00:00,  8.29it/s, v_num=393, val_loss=-2.53, train_loss=-2.58]    "
     ]
    },
    {
     "name": "stderr",
     "output_type": "stream",
     "text": [
      "`Trainer.fit` stopped: `max_epochs=1000` reached.\n"
     ]
    },
    {
     "name": "stdout",
     "output_type": "stream",
     "text": [
      "Epoch 999: 100%|██████████| 1/1 [00:00<00:00,  8.09it/s, v_num=393, val_loss=-2.53, train_loss=-2.58]\n"
     ]
    },
    {
     "name": "stderr",
     "output_type": "stream",
     "text": [
      "Seed set to 3\n",
      "GPU available: True (cuda), used: True\n",
      "TPU available: False, using: 0 TPU cores\n",
      "IPU available: False, using: 0 IPUs\n",
      "HPU available: False, using: 0 HPUs\n",
      "LOCAL_RANK: 0 - CUDA_VISIBLE_DEVICES: [0]\n"
     ]
    },
    {
     "name": "stdout",
     "output_type": "stream",
     "text": [
      "Epoch 999: 100%|██████████| 1/1 [00:00<00:00,  8.15it/s, v_num=394, val_loss=-1.63, train_loss=-1.77]    "
     ]
    },
    {
     "name": "stderr",
     "output_type": "stream",
     "text": [
      "`Trainer.fit` stopped: `max_epochs=1000` reached.\n"
     ]
    },
    {
     "name": "stdout",
     "output_type": "stream",
     "text": [
      "Epoch 999: 100%|██████████| 1/1 [00:00<00:00,  7.90it/s, v_num=394, val_loss=-1.63, train_loss=-1.77]\n"
     ]
    },
    {
     "name": "stderr",
     "output_type": "stream",
     "text": [
      "Seed set to 4\n",
      "GPU available: True (cuda), used: True\n",
      "TPU available: False, using: 0 TPU cores\n",
      "IPU available: False, using: 0 IPUs\n",
      "HPU available: False, using: 0 HPUs\n",
      "LOCAL_RANK: 0 - CUDA_VISIBLE_DEVICES: [0]\n"
     ]
    },
    {
     "name": "stdout",
     "output_type": "stream",
     "text": [
      "Epoch 999: 100%|██████████| 1/1 [00:00<00:00,  8.22it/s, v_num=395, val_loss=-2.11, train_loss=-2.23]    "
     ]
    },
    {
     "name": "stderr",
     "output_type": "stream",
     "text": [
      "`Trainer.fit` stopped: `max_epochs=1000` reached.\n"
     ]
    },
    {
     "name": "stdout",
     "output_type": "stream",
     "text": [
      "Epoch 999: 100%|██████████| 1/1 [00:00<00:00,  8.02it/s, v_num=395, val_loss=-2.11, train_loss=-2.23]\n"
     ]
    },
    {
     "name": "stderr",
     "output_type": "stream",
     "text": [
      "Seed set to 5\n",
      "GPU available: True (cuda), used: True\n",
      "TPU available: False, using: 0 TPU cores\n",
      "IPU available: False, using: 0 IPUs\n",
      "HPU available: False, using: 0 HPUs\n",
      "LOCAL_RANK: 0 - CUDA_VISIBLE_DEVICES: [0]\n"
     ]
    },
    {
     "name": "stdout",
     "output_type": "stream",
     "text": [
      "Epoch 999: 100%|██████████| 1/1 [00:00<00:00,  7.96it/s, v_num=396, val_loss=-2.28, train_loss=-2.38]    "
     ]
    },
    {
     "name": "stderr",
     "output_type": "stream",
     "text": [
      "`Trainer.fit` stopped: `max_epochs=1000` reached.\n"
     ]
    },
    {
     "name": "stdout",
     "output_type": "stream",
     "text": [
      "Epoch 999: 100%|██████████| 1/1 [00:00<00:00,  7.77it/s, v_num=396, val_loss=-2.28, train_loss=-2.38]\n"
     ]
    },
    {
     "name": "stderr",
     "output_type": "stream",
     "text": [
      "Seed set to 6\n",
      "GPU available: True (cuda), used: True\n",
      "TPU available: False, using: 0 TPU cores\n",
      "IPU available: False, using: 0 IPUs\n",
      "HPU available: False, using: 0 HPUs\n",
      "LOCAL_RANK: 0 - CUDA_VISIBLE_DEVICES: [0]\n"
     ]
    },
    {
     "name": "stdout",
     "output_type": "stream",
     "text": [
      "Epoch 999: 100%|██████████| 1/1 [00:00<00:00,  8.09it/s, v_num=397, val_loss=-2.22, train_loss=-2.28]    "
     ]
    },
    {
     "name": "stderr",
     "output_type": "stream",
     "text": [
      "`Trainer.fit` stopped: `max_epochs=1000` reached.\n"
     ]
    },
    {
     "name": "stdout",
     "output_type": "stream",
     "text": [
      "Epoch 999: 100%|██████████| 1/1 [00:00<00:00,  7.83it/s, v_num=397, val_loss=-2.22, train_loss=-2.28]\n"
     ]
    },
    {
     "name": "stderr",
     "output_type": "stream",
     "text": [
      "Seed set to 7\n",
      "GPU available: True (cuda), used: True\n",
      "TPU available: False, using: 0 TPU cores\n",
      "IPU available: False, using: 0 IPUs\n",
      "HPU available: False, using: 0 HPUs\n",
      "LOCAL_RANK: 0 - CUDA_VISIBLE_DEVICES: [0]\n"
     ]
    },
    {
     "name": "stdout",
     "output_type": "stream",
     "text": [
      "Epoch 999: 100%|██████████| 1/1 [00:00<00:00,  8.22it/s, v_num=398, val_loss=-2.76, train_loss=-2.86]    "
     ]
    },
    {
     "name": "stderr",
     "output_type": "stream",
     "text": [
      "`Trainer.fit` stopped: `max_epochs=1000` reached.\n"
     ]
    },
    {
     "name": "stdout",
     "output_type": "stream",
     "text": [
      "Epoch 999: 100%|██████████| 1/1 [00:00<00:00,  2.89it/s, v_num=398, val_loss=-2.76, train_loss=-2.86]\n"
     ]
    },
    {
     "name": "stderr",
     "output_type": "stream",
     "text": [
      "Seed set to 8\n",
      "GPU available: True (cuda), used: True\n",
      "TPU available: False, using: 0 TPU cores\n",
      "IPU available: False, using: 0 IPUs\n",
      "HPU available: False, using: 0 HPUs\n",
      "LOCAL_RANK: 0 - CUDA_VISIBLE_DEVICES: [0]\n"
     ]
    },
    {
     "name": "stdout",
     "output_type": "stream",
     "text": [
      "Epoch 999: 100%|██████████| 1/1 [00:00<00:00,  8.02it/s, v_num=399, val_loss=-1.91, train_loss=-1.94]    "
     ]
    },
    {
     "name": "stderr",
     "output_type": "stream",
     "text": [
      "`Trainer.fit` stopped: `max_epochs=1000` reached.\n"
     ]
    },
    {
     "name": "stdout",
     "output_type": "stream",
     "text": [
      "Epoch 999: 100%|██████████| 1/1 [00:00<00:00,  7.83it/s, v_num=399, val_loss=-1.91, train_loss=-1.94]\n"
     ]
    },
    {
     "name": "stderr",
     "output_type": "stream",
     "text": [
      "Seed set to 9\n",
      "GPU available: True (cuda), used: True\n",
      "TPU available: False, using: 0 TPU cores\n",
      "IPU available: False, using: 0 IPUs\n",
      "HPU available: False, using: 0 HPUs\n",
      "LOCAL_RANK: 0 - CUDA_VISIBLE_DEVICES: [0]\n"
     ]
    },
    {
     "name": "stdout",
     "output_type": "stream",
     "text": [
      "Epoch 999: 100%|██████████| 1/1 [00:00<00:00,  8.15it/s, v_num=400, val_loss=-1.55, train_loss=-1.62]    "
     ]
    },
    {
     "name": "stderr",
     "output_type": "stream",
     "text": [
      "`Trainer.fit` stopped: `max_epochs=1000` reached.\n"
     ]
    },
    {
     "name": "stdout",
     "output_type": "stream",
     "text": [
      "Epoch 999: 100%|██████████| 1/1 [00:00<00:00,  7.96it/s, v_num=400, val_loss=-1.55, train_loss=-1.62]\n"
     ]
    },
    {
     "name": "stderr",
     "output_type": "stream",
     "text": [
      "C:\\Users\\Grégoire\\AppData\\Local\\Temp\\ipykernel_4564\\1229143445.py:33: UserWarning: Creating a tensor from a list of numpy.ndarrays is extremely slow. Please consider converting the list to a single numpy.ndarray with numpy.array() before converting to a tensor. (Triggered internally at ..\\torch\\csrc\\utils\\tensor_new.cpp:278.)\n",
      "  x_scaled = torch.Tensor([np.concatenate([x, np.zeros((d-2))]) @ H])\n"
     ]
    },
    {
     "name": "stdout",
     "output_type": "stream",
     "text": [
      "      NCP mean   NCP std\n",
      "1.00  0.056500  0.014407\n",
      "1.57  0.042746  0.008323\n",
      "2.00  0.041485  0.008725\n",
      "3.14  0.028604  0.014660\n",
      "4.00  0.029266  0.014732\n",
      "5.00  0.054322  0.040806\n",
      "our execution time :  188.4207815647125 8.832219184872425\n"
     ]
    }
   ],
   "source": [
    "import pandas\n",
    "\n",
    "times_100,ks_dist_ncp = compute_res(100)\n",
    "\n",
    "m_ncp = ks_dist_ncp.mean(axis=-1)\n",
    "std_ncp = ks_dist_ncp.std(axis=-1)\n",
    "\n",
    "df = pandas.DataFrame(index=[1, 1.57, 2, 3.14, 4, 5])\n",
    "df['NCP mean'] = m_ncp\n",
    "df['NCP std'] = std_ncp\n",
    "\n",
    "print(df)\n",
    "\n",
    "# printing the performance table\n",
    "print(\"our execution time : \", times_100.mean(), times_100.std())"
   ]
  },
  {
   "cell_type": "code",
   "execution_count": 7,
   "metadata": {},
   "outputs": [
    {
     "name": "stderr",
     "output_type": "stream",
     "text": [
      "Seed set to 0\n",
      "GPU available: True (cuda), used: True\n",
      "TPU available: False, using: 0 TPU cores\n",
      "IPU available: False, using: 0 IPUs\n",
      "HPU available: False, using: 0 HPUs\n",
      "LOCAL_RANK: 0 - CUDA_VISIBLE_DEVICES: [0]\n"
     ]
    },
    {
     "name": "stdout",
     "output_type": "stream",
     "text": [
      "Epoch 999: 100%|██████████| 1/1 [00:00<00:00,  7.54it/s, v_num=418, val_loss=-2.05, train_loss=-2.08]    "
     ]
    },
    {
     "name": "stderr",
     "output_type": "stream",
     "text": [
      "`Trainer.fit` stopped: `max_epochs=1000` reached.\n"
     ]
    },
    {
     "name": "stdout",
     "output_type": "stream",
     "text": [
      "Epoch 999: 100%|██████████| 1/1 [00:00<00:00,  7.37it/s, v_num=418, val_loss=-2.05, train_loss=-2.08]\n"
     ]
    },
    {
     "name": "stderr",
     "output_type": "stream",
     "text": [
      "Seed set to 1\n",
      "GPU available: True (cuda), used: True\n",
      "TPU available: False, using: 0 TPU cores\n",
      "IPU available: False, using: 0 IPUs\n",
      "HPU available: False, using: 0 HPUs\n",
      "LOCAL_RANK: 0 - CUDA_VISIBLE_DEVICES: [0]\n"
     ]
    },
    {
     "name": "stdout",
     "output_type": "stream",
     "text": [
      "Epoch 999: 100%|██████████| 1/1 [00:00<00:00,  7.48it/s, v_num=419, val_loss=-2.22, train_loss=-2.14]   "
     ]
    },
    {
     "name": "stderr",
     "output_type": "stream",
     "text": [
      "`Trainer.fit` stopped: `max_epochs=1000` reached.\n"
     ]
    },
    {
     "name": "stdout",
     "output_type": "stream",
     "text": [
      "Epoch 999: 100%|██████████| 1/1 [00:00<00:00,  7.32it/s, v_num=419, val_loss=-2.22, train_loss=-2.14]\n"
     ]
    },
    {
     "name": "stderr",
     "output_type": "stream",
     "text": [
      "Seed set to 2\n",
      "GPU available: True (cuda), used: True\n",
      "TPU available: False, using: 0 TPU cores\n",
      "IPU available: False, using: 0 IPUs\n",
      "HPU available: False, using: 0 HPUs\n",
      "LOCAL_RANK: 0 - CUDA_VISIBLE_DEVICES: [0]\n"
     ]
    },
    {
     "name": "stdout",
     "output_type": "stream",
     "text": [
      "Epoch 999: 100%|██████████| 1/1 [00:00<00:00,  7.54it/s, v_num=420, val_loss=-1.67, train_loss=-1.61]   "
     ]
    },
    {
     "name": "stderr",
     "output_type": "stream",
     "text": [
      "`Trainer.fit` stopped: `max_epochs=1000` reached.\n"
     ]
    },
    {
     "name": "stdout",
     "output_type": "stream",
     "text": [
      "Epoch 999: 100%|██████████| 1/1 [00:00<00:00,  7.32it/s, v_num=420, val_loss=-1.67, train_loss=-1.61]\n"
     ]
    },
    {
     "name": "stderr",
     "output_type": "stream",
     "text": [
      "Seed set to 3\n",
      "GPU available: True (cuda), used: True\n",
      "TPU available: False, using: 0 TPU cores\n",
      "IPU available: False, using: 0 IPUs\n",
      "HPU available: False, using: 0 HPUs\n",
      "LOCAL_RANK: 0 - CUDA_VISIBLE_DEVICES: [0]\n"
     ]
    },
    {
     "name": "stdout",
     "output_type": "stream",
     "text": [
      "Epoch 999: 100%|██████████| 1/1 [00:00<00:00,  7.32it/s, v_num=421, val_loss=-1.29, train_loss=-1.51]      "
     ]
    },
    {
     "name": "stderr",
     "output_type": "stream",
     "text": [
      "`Trainer.fit` stopped: `max_epochs=1000` reached.\n"
     ]
    },
    {
     "name": "stdout",
     "output_type": "stream",
     "text": [
      "Epoch 999: 100%|██████████| 1/1 [00:00<00:00,  7.16it/s, v_num=421, val_loss=-1.29, train_loss=-1.51]\n"
     ]
    },
    {
     "name": "stderr",
     "output_type": "stream",
     "text": [
      "Seed set to 4\n",
      "GPU available: True (cuda), used: True\n",
      "TPU available: False, using: 0 TPU cores\n",
      "IPU available: False, using: 0 IPUs\n",
      "HPU available: False, using: 0 HPUs\n",
      "LOCAL_RANK: 0 - CUDA_VISIBLE_DEVICES: [0]\n"
     ]
    },
    {
     "name": "stdout",
     "output_type": "stream",
     "text": [
      "Epoch 999: 100%|██████████| 1/1 [00:00<00:00,  7.60it/s, v_num=422, val_loss=-1.57, train_loss=-1.51]    "
     ]
    },
    {
     "name": "stderr",
     "output_type": "stream",
     "text": [
      "`Trainer.fit` stopped: `max_epochs=1000` reached.\n"
     ]
    },
    {
     "name": "stdout",
     "output_type": "stream",
     "text": [
      "Epoch 999: 100%|██████████| 1/1 [00:00<00:00,  7.37it/s, v_num=422, val_loss=-1.57, train_loss=-1.51]\n",
      "      NCP mean   NCP std\n",
      "1.00  0.051654  0.015068\n",
      "1.57  0.041877  0.009376\n",
      "2.00  0.057207  0.001955\n",
      "3.14  0.045041  0.036253\n",
      "4.00  0.031225  0.009885\n",
      "5.00  0.097770  0.082742\n",
      "our execution time :  199.2392689704895 7.187191816810016\n"
     ]
    }
   ],
   "source": [
    "times_200,ks_dist_ncp = compute_res(200)\n",
    "\n",
    "m_ncp = ks_dist_ncp.mean(axis=-1)\n",
    "std_ncp = ks_dist_ncp.std(axis=-1)\n",
    "\n",
    "df = pandas.DataFrame(index=[1, 1.57, 2, 3.14, 4, 5])\n",
    "df['NCP mean'] = m_ncp\n",
    "df['NCP std'] = std_ncp\n",
    "\n",
    "print(df)\n",
    "\n",
    "# printing the performance table\n",
    "print(\"our execution time : \", times_200.mean(), times_200.std())"
   ]
  },
  {
   "cell_type": "code",
   "execution_count": null,
   "metadata": {},
   "outputs": [
    {
     "name": "stderr",
     "output_type": "stream",
     "text": [
      "Seed set to 0\n",
      "GPU available: True (cuda), used: True\n",
      "TPU available: False, using: 0 TPU cores\n",
      "IPU available: False, using: 0 IPUs\n",
      "HPU available: False, using: 0 HPUs\n",
      "LOCAL_RANK: 0 - CUDA_VISIBLE_DEVICES: [0]\n"
     ]
    },
    {
     "name": "stdout",
     "output_type": "stream",
     "text": [
      "Epoch 999: 100%|██████████| 1/1 [00:00<00:00,  7.06it/s, v_num=386, val_loss=-2.17, train_loss=-2.21]   "
     ]
    },
    {
     "name": "stderr",
     "output_type": "stream",
     "text": [
      "`Trainer.fit` stopped: `max_epochs=1000` reached.\n"
     ]
    },
    {
     "name": "stdout",
     "output_type": "stream",
     "text": [
      "Epoch 999: 100%|██████████| 1/1 [00:00<00:00,  2.79it/s, v_num=386, val_loss=-2.17, train_loss=-2.21]\n"
     ]
    },
    {
     "name": "stderr",
     "output_type": "stream",
     "text": [
      "Seed set to 1\n",
      "GPU available: True (cuda), used: True\n",
      "TPU available: False, using: 0 TPU cores\n",
      "IPU available: False, using: 0 IPUs\n",
      "HPU available: False, using: 0 HPUs\n",
      "LOCAL_RANK: 0 - CUDA_VISIBLE_DEVICES: [0]\n"
     ]
    },
    {
     "name": "stdout",
     "output_type": "stream",
     "text": [
      "Epoch 999: 100%|██████████| 1/1 [00:00<00:00,  7.06it/s, v_num=387, val_loss=-0.845, train_loss=-0.882]   "
     ]
    },
    {
     "name": "stderr",
     "output_type": "stream",
     "text": [
      "`Trainer.fit` stopped: `max_epochs=1000` reached.\n"
     ]
    },
    {
     "name": "stdout",
     "output_type": "stream",
     "text": [
      "Epoch 999: 100%|██████████| 1/1 [00:00<00:00,  6.91it/s, v_num=387, val_loss=-0.845, train_loss=-0.882]\n"
     ]
    },
    {
     "name": "stderr",
     "output_type": "stream",
     "text": [
      "Seed set to 2\n",
      "GPU available: True (cuda), used: True\n",
      "TPU available: False, using: 0 TPU cores\n",
      "IPU available: False, using: 0 IPUs\n",
      "HPU available: False, using: 0 HPUs\n",
      "LOCAL_RANK: 0 - CUDA_VISIBLE_DEVICES: [0]\n"
     ]
    },
    {
     "name": "stdout",
     "output_type": "stream",
     "text": [
      "Epoch 999: 100%|██████████| 1/1 [00:00<00:00,  7.32it/s, v_num=388, val_loss=-0.749, train_loss=-0.994]    "
     ]
    },
    {
     "name": "stderr",
     "output_type": "stream",
     "text": [
      "`Trainer.fit` stopped: `max_epochs=1000` reached.\n"
     ]
    },
    {
     "name": "stdout",
     "output_type": "stream",
     "text": [
      "Epoch 999: 100%|██████████| 1/1 [00:00<00:00,  7.21it/s, v_num=388, val_loss=-0.749, train_loss=-0.994]\n"
     ]
    },
    {
     "name": "stderr",
     "output_type": "stream",
     "text": [
      "Seed set to 3\n",
      "GPU available: True (cuda), used: True\n",
      "TPU available: False, using: 0 TPU cores\n",
      "IPU available: False, using: 0 IPUs\n",
      "HPU available: False, using: 0 HPUs\n",
      "LOCAL_RANK: 0 - CUDA_VISIBLE_DEVICES: [0]\n"
     ]
    },
    {
     "name": "stdout",
     "output_type": "stream",
     "text": [
      "Epoch 999: 100%|██████████| 1/1 [00:00<00:00,  7.27it/s, v_num=389, val_loss=-2.38, train_loss=-2.74]     "
     ]
    },
    {
     "name": "stderr",
     "output_type": "stream",
     "text": [
      "`Trainer.fit` stopped: `max_epochs=1000` reached.\n"
     ]
    },
    {
     "name": "stdout",
     "output_type": "stream",
     "text": [
      "Epoch 999: 100%|██████████| 1/1 [00:00<00:00,  7.11it/s, v_num=389, val_loss=-2.38, train_loss=-2.74]\n"
     ]
    },
    {
     "name": "stderr",
     "output_type": "stream",
     "text": [
      "Seed set to 4\n",
      "GPU available: True (cuda), used: True\n",
      "TPU available: False, using: 0 TPU cores\n",
      "IPU available: False, using: 0 IPUs\n",
      "HPU available: False, using: 0 HPUs\n",
      "LOCAL_RANK: 0 - CUDA_VISIBLE_DEVICES: [0]\n"
     ]
    },
    {
     "name": "stdout",
     "output_type": "stream",
     "text": [
      "Epoch 999: 100%|██████████| 1/1 [00:00<00:00,  7.11it/s, v_num=390, val_loss=-2.62, train_loss=-2.83]    "
     ]
    },
    {
     "name": "stderr",
     "output_type": "stream",
     "text": [
      "`Trainer.fit` stopped: `max_epochs=1000` reached.\n"
     ]
    },
    {
     "name": "stdout",
     "output_type": "stream",
     "text": [
      "Epoch 999: 100%|██████████| 1/1 [00:00<00:00,  6.96it/s, v_num=390, val_loss=-2.62, train_loss=-2.83]\n",
      "      NCP mean   NCP std\n",
      "1.00  0.079438  0.050181\n",
      "1.57  0.068734  0.042408\n",
      "2.00  0.054560  0.032869\n",
      "3.14  0.116344  0.173098\n",
      "4.00  0.085910  0.097436\n",
      "5.00  0.131045  0.175322\n",
      "our execution time :  202.85307273864746 6.419298745064043\n"
     ]
    }
   ],
   "source": [
    "times_500,ks_dist_ncp = compute_res(500)\n",
    "\n",
    "m_ncp = ks_dist_ncp.mean(axis=-1)\n",
    "std_ncp = ks_dist_ncp.std(axis=-1)\n",
    "\n",
    "df = pandas.DataFrame(index=[1, 1.57, 2, 3.14, 4, 5])\n",
    "df['NCP mean'] = m_ncp\n",
    "df['NCP std'] = std_ncp\n",
    "\n",
    "print(df)\n",
    "\n",
    "# printing the performance table\n",
    "print(\"our execution time : \", times_500.mean(), times_500.std())"
   ]
  },
  {
   "cell_type": "code",
   "execution_count": 10,
   "metadata": {},
   "outputs": [
    {
     "name": "stderr",
     "output_type": "stream",
     "text": [
      "Seed set to 0\n",
      "GPU available: True (cuda), used: True\n",
      "TPU available: False, using: 0 TPU cores\n",
      "IPU available: False, using: 0 IPUs\n",
      "HPU available: False, using: 0 HPUs\n",
      "LOCAL_RANK: 0 - CUDA_VISIBLE_DEVICES: [0]\n"
     ]
    },
    {
     "name": "stdout",
     "output_type": "stream",
     "text": [
      "Epoch 999: 100%|██████████| 1/1 [00:00<00:00,  6.39it/s, v_num=423, val_loss=-1.76, train_loss=-1.82]     "
     ]
    },
    {
     "name": "stderr",
     "output_type": "stream",
     "text": [
      "`Trainer.fit` stopped: `max_epochs=1000` reached.\n"
     ]
    },
    {
     "name": "stdout",
     "output_type": "stream",
     "text": [
      "Epoch 999: 100%|██████████| 1/1 [00:00<00:00,  6.23it/s, v_num=423, val_loss=-1.76, train_loss=-1.82]\n"
     ]
    },
    {
     "name": "stderr",
     "output_type": "stream",
     "text": [
      "Seed set to 1\n",
      "GPU available: True (cuda), used: True\n",
      "TPU available: False, using: 0 TPU cores\n",
      "IPU available: False, using: 0 IPUs\n",
      "HPU available: False, using: 0 HPUs\n",
      "LOCAL_RANK: 0 - CUDA_VISIBLE_DEVICES: [0]\n"
     ]
    },
    {
     "name": "stdout",
     "output_type": "stream",
     "text": [
      "Epoch 999: 100%|██████████| 1/1 [00:00<00:00,  6.15it/s, v_num=424, val_loss=-1.47, train_loss=-1.65]     "
     ]
    },
    {
     "name": "stderr",
     "output_type": "stream",
     "text": [
      "`Trainer.fit` stopped: `max_epochs=1000` reached.\n"
     ]
    },
    {
     "name": "stdout",
     "output_type": "stream",
     "text": [
      "Epoch 999: 100%|██████████| 1/1 [00:00<00:00,  6.04it/s, v_num=424, val_loss=-1.47, train_loss=-1.65]\n"
     ]
    },
    {
     "name": "stderr",
     "output_type": "stream",
     "text": [
      "Seed set to 2\n",
      "GPU available: True (cuda), used: True\n",
      "TPU available: False, using: 0 TPU cores\n",
      "IPU available: False, using: 0 IPUs\n",
      "HPU available: False, using: 0 HPUs\n",
      "LOCAL_RANK: 0 - CUDA_VISIBLE_DEVICES: [0]\n"
     ]
    },
    {
     "name": "stdout",
     "output_type": "stream",
     "text": [
      "Epoch 999: 100%|██████████| 1/1 [00:00<00:00,  6.19it/s, v_num=425, val_loss=-2.39, train_loss=-2.59]     "
     ]
    },
    {
     "name": "stderr",
     "output_type": "stream",
     "text": [
      "`Trainer.fit` stopped: `max_epochs=1000` reached.\n"
     ]
    },
    {
     "name": "stdout",
     "output_type": "stream",
     "text": [
      "Epoch 999: 100%|██████████| 1/1 [00:00<00:00,  6.08it/s, v_num=425, val_loss=-2.39, train_loss=-2.59]\n"
     ]
    },
    {
     "name": "stderr",
     "output_type": "stream",
     "text": [
      "Seed set to 3\n",
      "GPU available: True (cuda), used: True\n",
      "TPU available: False, using: 0 TPU cores\n",
      "IPU available: False, using: 0 IPUs\n",
      "HPU available: False, using: 0 HPUs\n",
      "LOCAL_RANK: 0 - CUDA_VISIBLE_DEVICES: [0]\n"
     ]
    },
    {
     "name": "stdout",
     "output_type": "stream",
     "text": [
      "Epoch 999: 100%|██████████| 1/1 [00:00<00:00,  6.15it/s, v_num=426, val_loss=123.0, train_loss=126.0]      "
     ]
    },
    {
     "name": "stderr",
     "output_type": "stream",
     "text": [
      "`Trainer.fit` stopped: `max_epochs=1000` reached.\n"
     ]
    },
    {
     "name": "stdout",
     "output_type": "stream",
     "text": [
      "Epoch 999: 100%|██████████| 1/1 [00:00<00:00,  6.04it/s, v_num=426, val_loss=123.0, train_loss=126.0]\n"
     ]
    },
    {
     "name": "stderr",
     "output_type": "stream",
     "text": [
      "Seed set to 4\n",
      "GPU available: True (cuda), used: True\n",
      "TPU available: False, using: 0 TPU cores\n",
      "IPU available: False, using: 0 IPUs\n",
      "HPU available: False, using: 0 HPUs\n",
      "LOCAL_RANK: 0 - CUDA_VISIBLE_DEVICES: [0]\n"
     ]
    },
    {
     "name": "stdout",
     "output_type": "stream",
     "text": [
      "Epoch 999: 100%|██████████| 1/1 [00:00<00:00,  6.08it/s, v_num=427, val_loss=-1.43, train_loss=-1.71]     "
     ]
    },
    {
     "name": "stderr",
     "output_type": "stream",
     "text": [
      "`Trainer.fit` stopped: `max_epochs=1000` reached.\n"
     ]
    },
    {
     "name": "stdout",
     "output_type": "stream",
     "text": [
      "Epoch 999: 100%|██████████| 1/1 [00:00<00:00,  5.97it/s, v_num=427, val_loss=-1.43, train_loss=-1.71]\n",
      "      NCP mean   NCP std\n",
      "1.00  0.121966  0.129135\n",
      "1.57  0.205399  0.287648\n",
      "2.00  0.158160  0.219598\n",
      "3.14  0.092260  0.101927\n",
      "4.00  0.241763  0.379542\n",
      "5.00  0.213303  0.338650\n",
      "our execution time :  232.152996635437 10.925036758644401\n"
     ]
    }
   ],
   "source": [
    "import pandas\n",
    "\n",
    "times_1000,ks_dist_ncp = compute_res(1000)\n",
    "\n",
    "m_ncp = ks_dist_ncp.mean(axis=-1)\n",
    "std_ncp = ks_dist_ncp.std(axis=-1)\n",
    "\n",
    "df = pandas.DataFrame(index=[1, 1.57, 2, 3.14, 4, 5])\n",
    "df['NCP mean'] = m_ncp\n",
    "df['NCP std'] = std_ncp\n",
    "\n",
    "print(df)\n",
    "\n",
    "# printing the performance table\n",
    "print(\"our execution time : \", times_1000.mean(), times_1000.std())"
   ]
  },
  {
   "cell_type": "code",
   "execution_count": 11,
   "metadata": {},
   "outputs": [
    {
     "data": {
      "image/png": "[encoded data removed]",
      "text/plain": [
       "<Figure size 640x480 with 1 Axes>"
      ]
     },
     "metadata": {},
     "output_type": "display_data"
    }
   ],
   "source": [
    "mean_times = [188.4207815647125, 199.2392689704895, 202.85307273864746, 232.152996635437]\n",
    "std_times = np.array([8.832219184872425, 7.187191816810016, 6.419298745064043, 10.925036758644401])\n",
    "\n",
    "plt.errorbar([100, 200, 500, 1000], mean_times, 0.96*std_times/np.sqrt(NEXP))\n",
    "plt.ylabel(\"Execution time (in s) for 1000 epochs\")\n",
    "plt.xlabel(\"Ambient dimension of the features\")\n",
    "plt.show()"
   ]
  },
  {
   "cell_type": "code",
   "execution_count": null,
   "metadata": {},
   "outputs": [],
   "source": []
  }
 ],
 "metadata": {
  "kernelspec": {
   "display_name": "koopman",
   "language": "python",
   "name": "python3"
  },
  "language_info": {
   "codemirror_mode": {
    "name": "ipython",
    "version": 3
   },
   "file_extension": ".py",
   "mimetype": "text/x-python",
   "name": "python",
   "nbconvert_exporter": "python",
   "pygments_lexer": "ipython3",
   "version": "3.12.2"
  }
 },
 "nbformat": 4,
 "nbformat_minor": 2
}
