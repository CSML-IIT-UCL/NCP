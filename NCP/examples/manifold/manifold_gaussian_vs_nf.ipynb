{
 "cells": [
  {
   "cell_type": "code",
   "execution_count": 1,
   "metadata": {},
   "outputs": [],
   "source": [
    "import numpy as np\n",
    "import torch\n",
    "from torch.optim import Adam, SGD\n",
    "import matplotlib.pyplot as plt\n",
    "from NCP.model import NCPOperator, NCPModule\n",
    "from NCP.nn.layers import MLP\n",
    "from NCP.nn.losses import CMELoss, DDPMLoss\n",
    "from NCP.metrics import hellinger, kullback_leibler, wasserstein1, kolmogorov_smirnov\n",
    "from NCP.utils import frnp, FastTensorDataLoader\n",
    "import lightning as L\n",
    "from lightning.pytorch.callbacks.early_stopping import EarlyStopping\n",
    "from lightning.pytorch.callbacks.model_checkpoint import ModelCheckpoint\n",
    "\n",
    "from NCP.metrics import smooth_cdf\n",
    "\n",
    "from NCP.cdf import compute_marginal\n",
    "\n",
    "#import normflows as nf\n",
    "\n",
    "# diffusion model imports:\n",
    "from NCP.nn.diffusion_conditional import DDPM, ContextUnet\n",
    "from NCP.nn.ddpm_module import DDPMModule\n",
    "import normflows as nf\n",
    "\n",
    "from NCP.nn.nf_module import NFModule\n",
    "\n",
    "from time import time\n",
    "\n",
    "from NCP.examples.tools.plot_utils import setup_plots\n",
    "from NCP.examples.tools.data_gen import gen_bimodal, get_conditional_bimodal_cdf, get_conditional_bimodal_pdf\n",
    "from NCP.examples.tools.lincde import lincde\n",
    "setup_plots()\n",
    "\n",
    "# TODO: add them to a utils folder\n",
    "class CustomModelCheckpoint(ModelCheckpoint):\n",
    "    def on_save_checkpoint(self, trainer, pl_module, checkpoint):\n",
    "        X, Y = trainer.model.batch\n",
    "        trainer.model.model._compute_data_statistics(X, Y)\n",
    "\n",
    "def restore_buffers_shape(model, state_dict):\n",
    "    model._sing_val = torch.zeros_like(state_dict['model._sing_val']).to('cpu')\n",
    "    model._sing_vec_l = torch.zeros_like(state_dict['model._sing_vec_l']).to('cpu')\n",
    "    model._sing_vec_r = torch.zeros_like(state_dict['model._sing_vec_r']).to('cpu')\n",
    "\n",
    "\n",
    "np.random.seed(0)\n",
    "torch.manual_seed(0)\n",
    "Ntrain = 50000\n",
    "Nval = 1000         # val dataset will be used to sample the marginal distribution of Y\n",
    "Ntest = 1000\n",
    "\n",
    "device = 'cuda' if torch.cuda.is_available() else 'cpu'\n",
    "\n",
    "NEXP = 5"
   ]
  },
  {
   "cell_type": "code",
   "execution_count": 2,
   "metadata": {},
   "outputs": [],
   "source": [
    "# Common optimizer\n",
    "lr = 1e-3\n",
    "\n",
    "optimizer = Adam\n",
    "optimizer_kwargs = {\n",
    "        'lr': lr\n",
    "        }"
   ]
  },
  {
   "cell_type": "code",
   "execution_count": 3,
   "metadata": {},
   "outputs": [],
   "source": [
    "from sklearn.preprocessing import StandardScaler\n",
    "\n",
    "N = 50000\n",
    "d = 500\n",
    "\n",
    "from scipy.stats  import special_ortho_group as sog\n",
    "from scipy.stats import t, norm\n",
    "\n",
    "H = sog.rvs(d)\n",
    "\n",
    "def create_manifold_dataset(N, noise, rng=None):\n",
    "\n",
    "    thetas = np.random.uniform(0, 2*np.pi, N)\n",
    "\n",
    "    X_low_dim = np.concatenate([np.cos(thetas).reshape(-1,1), np.sin(thetas).reshape(-1, 1)], axis=-1)\n",
    "\n",
    "    if noise:\n",
    "        X_low_dim * np.random.uniform(-1.5, 1, N)\n",
    "    X = np.concatenate([X_low_dim, np.zeros((N, d-2))], axis=-1) @ H\n",
    "\n",
    "    Y = np.zeros((X.shape[0], 1))\n",
    "    for i, xi in enumerate(X):\n",
    "        #Y[i] = thetas[i] + 0.01*np.random.standard_cauchy() # cauchy\n",
    "        #Y[i] = t.rvs(4, loc=thetas[i], scale=1)\n",
    "        #Y[i] = norm.rvs(loc=thetas[i], scale=0.1) % (2*np.pi) # one or the other\n",
    "        Y[i] = norm.rvs(loc=thetas[i], scale=np.sin(thetas[i]/2))\n",
    "\n",
    "    Y = Y.reshape((-1,1))\n",
    "    \n",
    "    return X,Y, thetas"
   ]
  },
  {
   "cell_type": "code",
   "execution_count": 4,
   "metadata": {},
   "outputs": [],
   "source": [
    "noisy=False\n",
    "\n",
    "xscaler = StandardScaler()\n",
    "yscaler = StandardScaler()\n",
    "\n",
    "X_train, Y_train, thetas_train = create_manifold_dataset(Ntrain, noisy)\n",
    "X_val, Y_val, thetas_val = create_manifold_dataset(Nval, noisy)\n",
    "X_test, Y_test, thetas_test = create_manifold_dataset(Ntest, noisy)\n",
    "\n",
    "X_train_torch = frnp(X_train)\n",
    "Y_train_torch = frnp(Y_train)\n",
    "X_val_torch = frnp(X_val)\n",
    "Y_val_torch = frnp(Y_val)\n",
    "\n",
    "train_dl = FastTensorDataLoader(X_train_torch, Y_train_torch, batch_size=len(X_train_torch), shuffle=False)\n",
    "val_dl = FastTensorDataLoader(X_val_torch, Y_val_torch, batch_size=len(X_val_torch), shuffle=False)"
   ]
  },
  {
   "cell_type": "code",
   "execution_count": 5,
   "metadata": {},
   "outputs": [
    {
     "name": "stderr",
     "output_type": "stream",
     "text": [
      "Seed set to 0\n",
      "GPU available: True (cuda), used: True\n",
      "TPU available: False, using: 0 TPU cores\n",
      "IPU available: False, using: 0 IPUs\n",
      "HPU available: False, using: 0 HPUs\n",
      "d:\\Gregoire\\anaconda3\\envs\\koopman\\Lib\\site-packages\\lightning\\pytorch\\trainer\\connectors\\logger_connector\\logger_connector.py:75: Starting from v1.9.0, `tensorboardX` has been removed as a dependency of the `lightning.pytorch` package, due to potential conflicts with other packages in the ML ecosystem. For this reason, `logger=True` will use `CSVLogger` as the default logger, unless the `tensorboard` or `tensorboardX` packages are found. Please `pip install lightning[extra]` or one of them to enable TensorBoard support by default\n",
      "LOCAL_RANK: 0 - CUDA_VISIBLE_DEVICES: [0]\n"
     ]
    },
    {
     "name": "stdout",
     "output_type": "stream",
     "text": [
      "Epoch 992: 100%|██████████| 1/1 [00:00<00:00,  6.96it/s, v_num=10, val_loss=-1.36, train_loss=-1.48]      \n"
     ]
    },
    {
     "name": "stderr",
     "output_type": "stream",
     "text": [
      "Seed set to 1\n",
      "GPU available: True (cuda), used: True\n",
      "TPU available: False, using: 0 TPU cores\n",
      "IPU available: False, using: 0 IPUs\n",
      "HPU available: False, using: 0 HPUs\n",
      "LOCAL_RANK: 0 - CUDA_VISIBLE_DEVICES: [0]\n"
     ]
    },
    {
     "name": "stdout",
     "output_type": "stream",
     "text": [
      "Epoch 263: 100%|██████████| 1/1 [00:00<00:00,  7.21it/s, v_num=11, val_loss=-0.565, train_loss=-1.04]    \n"
     ]
    },
    {
     "name": "stderr",
     "output_type": "stream",
     "text": [
      "Seed set to 2\n",
      "GPU available: True (cuda), used: True\n",
      "TPU available: False, using: 0 TPU cores\n",
      "IPU available: False, using: 0 IPUs\n",
      "HPU available: False, using: 0 HPUs\n",
      "LOCAL_RANK: 0 - CUDA_VISIBLE_DEVICES: [0]\n"
     ]
    },
    {
     "name": "stdout",
     "output_type": "stream",
     "text": [
      "Epoch 244: 100%|██████████| 1/1 [00:00<00:00,  7.01it/s, v_num=12, val_loss=0.00633, train_loss=-0.936]\n"
     ]
    },
    {
     "name": "stderr",
     "output_type": "stream",
     "text": [
      "Seed set to 3\n",
      "GPU available: True (cuda), used: True\n",
      "TPU available: False, using: 0 TPU cores\n",
      "IPU available: False, using: 0 IPUs\n",
      "HPU available: False, using: 0 HPUs\n",
      "LOCAL_RANK: 0 - CUDA_VISIBLE_DEVICES: [0]\n"
     ]
    },
    {
     "name": "stdout",
     "output_type": "stream",
     "text": [
      "Epoch 491: 100%|██████████| 1/1 [00:00<00:00,  7.32it/s, v_num=13, val_loss=-0.662, train_loss=-1.14]    \n"
     ]
    },
    {
     "name": "stderr",
     "output_type": "stream",
     "text": [
      "Seed set to 4\n",
      "GPU available: True (cuda), used: True\n",
      "TPU available: False, using: 0 TPU cores\n",
      "IPU available: False, using: 0 IPUs\n",
      "HPU available: False, using: 0 HPUs\n",
      "LOCAL_RANK: 0 - CUDA_VISIBLE_DEVICES: [0]\n"
     ]
    },
    {
     "name": "stdout",
     "output_type": "stream",
     "text": [
      "Epoch 736: 100%|██████████| 1/1 [00:00<00:00,  7.11it/s, v_num=14, val_loss=-1.56, train_loss=-2.08]     \n"
     ]
    }
   ],
   "source": [
    "best_models = {}\n",
    "times_ncp = np.zeros(NEXP)\n",
    "\n",
    "for exp in range(NEXP):\n",
    "\n",
    "    L.seed_everything(exp)\n",
    "\n",
    "    gamma = 1e-3\n",
    "    epochs = int(3e3)\n",
    "    output_shape = 500\n",
    "\n",
    "    MLP_kwargs_U = {\n",
    "        'input_shape': X_train.shape[-1],\n",
    "        'output_shape': output_shape,\n",
    "        'n_hidden': 3,\n",
    "        'layer_size': 128,\n",
    "        'dropout': 0.,\n",
    "        'iterative_whitening': False,\n",
    "        'activation': torch.nn.ReLU\n",
    "    }\n",
    "\n",
    "    MLP_kwargs_V = {\n",
    "        'input_shape': Y_train.shape[-1],\n",
    "        'output_shape': output_shape,\n",
    "        'n_hidden': 3,\n",
    "        'layer_size':128,\n",
    "        'dropout': 0,\n",
    "        'iterative_whitening': False,\n",
    "        'activation': torch.nn.ReLU\n",
    "    }\n",
    "\n",
    "    loss_fn = CMELoss\n",
    "    loss_kwargs = {\n",
    "        'mode': 'split',\n",
    "        'gamma': gamma\n",
    "    }\n",
    "\n",
    "    reg = NCPOperator(U_operator=MLP, V_operator=MLP, U_operator_kwargs=MLP_kwargs_U, V_operator_kwargs=MLP_kwargs_V)\n",
    "\n",
    "    NCP_module = NCPModule(\n",
    "        reg,\n",
    "        optimizer,\n",
    "        optimizer_kwargs,\n",
    "        CMELoss,\n",
    "        loss_kwargs\n",
    "    )\n",
    "\n",
    "    early_stop = EarlyStopping(monitor=\"val_loss\", patience=100, mode=\"min\")\n",
    "    checkpoint_callback = CustomModelCheckpoint(save_top_k=1, monitor=\"val_loss\", mode=\"min\")\n",
    "\n",
    "    trainer = L.Trainer(**{\n",
    "        'accelerator': device,\n",
    "        'max_epochs': epochs,\n",
    "        'log_every_n_steps': 1,\n",
    "        'enable_progress_bar': True,\n",
    "        'devices': 1,\n",
    "        'enable_checkpointing': True,\n",
    "        'num_sanity_val_steps': 0,\n",
    "        'enable_model_summary': False,\n",
    "        }, callbacks=[checkpoint_callback, early_stop])\n",
    "\n",
    "    start_time = time()\n",
    "    trainer.fit(NCP_module, train_dataloaders=train_dl, val_dataloaders=val_dl)\n",
    "    times_ncp[exp] = time()-start_time\n",
    "\n",
    "    # recover best model during training\n",
    "    best_model_dict = torch.load(checkpoint_callback.best_model_path)\n",
    "    restore_buffers_shape(reg, best_model_dict['state_dict'])\n",
    "    NCP_module.load_state_dict(best_model_dict['state_dict'])\n",
    "    best_models[exp] = NCP_module.model\n",
    "\n",
    "    del NCP_module\n",
    "    del reg"
   ]
  },
  {
   "cell_type": "code",
   "execution_count": 6,
   "metadata": {},
   "outputs": [
    {
     "name": "stderr",
     "output_type": "stream",
     "text": [
      "Seed set to 0\n",
      "GPU available: True (cuda), used: True\n",
      "TPU available: False, using: 0 TPU cores\n",
      "IPU available: False, using: 0 IPUs\n",
      "HPU available: False, using: 0 HPUs\n",
      "LOCAL_RANK: 0 - CUDA_VISIBLE_DEVICES: [0]\n"
     ]
    },
    {
     "name": "stdout",
     "output_type": "stream",
     "text": [
      "Epoch 499: 100%|██████████| 1/1 [00:00<00:00,  6.00it/s, v_num=15, val_loss=1.220, train_loss=1.200]"
     ]
    },
    {
     "name": "stderr",
     "output_type": "stream",
     "text": [
      "`Trainer.fit` stopped: `max_epochs=500` reached.\n"
     ]
    },
    {
     "name": "stdout",
     "output_type": "stream",
     "text": [
      "Epoch 499: 100%|██████████| 1/1 [00:00<00:00,  4.75it/s, v_num=15, val_loss=1.220, train_loss=1.200]"
     ]
    },
    {
     "name": "stderr",
     "output_type": "stream",
     "text": [
      "Seed set to 1\n",
      "GPU available: True (cuda), used: True\n",
      "TPU available: False, using: 0 TPU cores\n",
      "IPU available: False, using: 0 IPUs\n",
      "HPU available: False, using: 0 HPUs\n",
      "LOCAL_RANK: 0 - CUDA_VISIBLE_DEVICES: [0]\n"
     ]
    },
    {
     "name": "stdout",
     "output_type": "stream",
     "text": [
      "\n",
      "Epoch 499: 100%|██████████| 1/1 [00:00<00:00,  6.19it/s, v_num=16, val_loss=1.230, train_loss=1.220]"
     ]
    },
    {
     "name": "stderr",
     "output_type": "stream",
     "text": [
      "`Trainer.fit` stopped: `max_epochs=500` reached.\n"
     ]
    },
    {
     "name": "stdout",
     "output_type": "stream",
     "text": [
      "Epoch 499: 100%|██████████| 1/1 [00:00<00:00,  4.64it/s, v_num=16, val_loss=1.230, train_loss=1.220]"
     ]
    },
    {
     "name": "stderr",
     "output_type": "stream",
     "text": [
      "Seed set to 2\n",
      "GPU available: True (cuda), used: True\n",
      "TPU available: False, using: 0 TPU cores\n",
      "IPU available: False, using: 0 IPUs\n",
      "HPU available: False, using: 0 HPUs\n",
      "LOCAL_RANK: 0 - CUDA_VISIBLE_DEVICES: [0]\n"
     ]
    },
    {
     "name": "stdout",
     "output_type": "stream",
     "text": [
      "\n",
      "Epoch 499: 100%|██████████| 1/1 [00:00<00:00,  6.39it/s, v_num=17, val_loss=1.220, train_loss=1.200]"
     ]
    },
    {
     "name": "stderr",
     "output_type": "stream",
     "text": [
      "`Trainer.fit` stopped: `max_epochs=500` reached.\n"
     ]
    },
    {
     "name": "stdout",
     "output_type": "stream",
     "text": [
      "Epoch 499: 100%|██████████| 1/1 [00:00<00:00,  6.27it/s, v_num=17, val_loss=1.220, train_loss=1.200]\n"
     ]
    },
    {
     "name": "stderr",
     "output_type": "stream",
     "text": [
      "Seed set to 3\n",
      "GPU available: True (cuda), used: True\n",
      "TPU available: False, using: 0 TPU cores\n",
      "IPU available: False, using: 0 IPUs\n",
      "HPU available: False, using: 0 HPUs\n",
      "LOCAL_RANK: 0 - CUDA_VISIBLE_DEVICES: [0]\n"
     ]
    },
    {
     "name": "stdout",
     "output_type": "stream",
     "text": [
      "Epoch 499: 100%|██████████| 1/1 [00:00<00:00,  6.19it/s, v_num=18, val_loss=1.250, train_loss=1.230]"
     ]
    },
    {
     "name": "stderr",
     "output_type": "stream",
     "text": [
      "`Trainer.fit` stopped: `max_epochs=500` reached.\n"
     ]
    },
    {
     "name": "stdout",
     "output_type": "stream",
     "text": [
      "Epoch 499: 100%|██████████| 1/1 [00:00<00:00,  4.80it/s, v_num=18, val_loss=1.250, train_loss=1.230]"
     ]
    },
    {
     "name": "stderr",
     "output_type": "stream",
     "text": [
      "Seed set to 4\n",
      "GPU available: True (cuda), used: True\n",
      "TPU available: False, using: 0 TPU cores\n",
      "IPU available: False, using: 0 IPUs\n",
      "HPU available: False, using: 0 HPUs\n",
      "LOCAL_RANK: 0 - CUDA_VISIBLE_DEVICES: [0]\n"
     ]
    },
    {
     "name": "stdout",
     "output_type": "stream",
     "text": [
      "\n",
      "Epoch 499: 100%|██████████| 1/1 [00:00<00:00,  6.27it/s, v_num=19, val_loss=1.250, train_loss=1.220]"
     ]
    },
    {
     "name": "stderr",
     "output_type": "stream",
     "text": [
      "`Trainer.fit` stopped: `max_epochs=500` reached.\n"
     ]
    },
    {
     "name": "stdout",
     "output_type": "stream",
     "text": [
      "Epoch 499: 100%|██████████| 1/1 [00:00<00:00,  6.15it/s, v_num=19, val_loss=1.250, train_loss=1.220]\n"
     ]
    }
   ],
   "source": [
    "best_models_nf = {}\n",
    "times_nf = np.zeros(NEXP)\n",
    "\n",
    "for exp in range(NEXP):\n",
    "    L.seed_everything(exp)\n",
    "\n",
    "    base = nf.distributions.base.DiagGaussian(1)\n",
    "\n",
    "    num_flows = 2\n",
    "    latent_size = 1\n",
    "    hidden_units = 128\n",
    "    num_blocks = 3\n",
    "    flows = []\n",
    "    for i in range(num_flows):\n",
    "        flows += [nf.flows.AutoregressiveRationalQuadraticSpline(latent_size, num_blocks, hidden_units, \n",
    "                                                    num_context_channels=X_train.shape[-1])]\n",
    "        flows += [nf.flows.LULinearPermute(latent_size)]\n",
    "\n",
    "    # If the target density is not given\n",
    "    model = nf.ConditionalNormalizingFlow(base, flows)\n",
    "\n",
    "    nf_module = NFModule(model,\n",
    "        optimizer,\n",
    "        optimizer_kwargs)\n",
    "\n",
    "    checkpoint_callback_vanilla = ModelCheckpoint(monitor=\"val_loss\", mode=\"min\")\n",
    "\n",
    "    trainer = L.Trainer(**{\n",
    "        'accelerator': device,\n",
    "        'max_epochs': int(5e2),\n",
    "        'log_every_n_steps': 1,\n",
    "        'enable_progress_bar': True,\n",
    "        'devices': 1,\n",
    "        'enable_checkpointing': True,\n",
    "        'num_sanity_val_steps': 0,\n",
    "        'enable_model_summary': False,\n",
    "        }, callbacks=[checkpoint_callback_vanilla])\n",
    "    \n",
    "    start_time = time()\n",
    "    trainer.fit(nf_module, train_dataloaders=train_dl, val_dataloaders=val_dl)\n",
    "    times_nf[exp] = time()-start_time\n",
    "\n",
    "    checkpoint_callback_vanilla.best_model_path\n",
    "    best_model_dict = torch.load(checkpoint_callback_vanilla.best_model_path)\n",
    "    nf_module.load_state_dict(best_model_dict['state_dict'])\n",
    "\n",
    "    best_models_nf[exp] = nf_module.model"
   ]
  },
  {
   "cell_type": "code",
   "execution_count": 7,
   "metadata": {},
   "outputs": [],
   "source": [
    "# todo: plot different cdfs, replicate plots from linCDE\n",
    "from scipy.stats import norm, cauchy\n",
    "\n",
    "def manifold_cdf(theta, fys):\n",
    "    return norm.cdf(fys, loc=theta, scale=np.sin(theta/2))\n",
    "\n",
    "def get_pdf_from_nf(model:nf.ConditionalNormalizingFlow, x, ys):\n",
    "    # since only one x, duplicate\n",
    "    xs = x.repeat(ys.size()[0], 1)\n",
    "    log_prob = model.log_prob(ys, xs).detach().cpu().numpy()\n",
    "    return np.exp(log_prob)\n",
    "\n",
    "def get_cdf_from_nf(model:nf.ConditionalNormalizingFlow, x, ys):\n",
    "    # supposing that ys is computed from linspace\n",
    "    prob = get_pdf_from_nf(model, x, torch.Tensor(ys))\n",
    "    ys_bis = ys.numpy().flatten()\n",
    "    return np.concatenate([[0], np.cumsum(prob[1:])*(ys_bis[1:] - ys_bis[:-1])])"
   ]
  },
  {
   "cell_type": "code",
   "execution_count": 8,
   "metadata": {},
   "outputs": [
    {
     "name": "stderr",
     "output_type": "stream",
     "text": [
      "C:\\Users\\Grégoire\\AppData\\Local\\Temp\\ipykernel_11188\\1703196221.py:17: UserWarning: Creating a tensor from a list of numpy.ndarrays is extremely slow. Please consider converting the list to a single numpy.ndarray with numpy.array() before converting to a tensor. (Triggered internally at ..\\torch\\csrc\\utils\\tensor_new.cpp:278.)\n",
      "  x_scaled = torch.Tensor([np.concatenate([x, np.zeros((d-2))]) @ H])\n"
     ]
    },
    {
     "data": {
      "image/png": "[encoded data removed]",
      "text/plain": [
       "<Figure size 1500x800 with 6 Axes>"
      ]
     },
     "metadata": {},
     "output_type": "display_data"
    }
   ],
   "source": [
    "#x1 = np.linspace(np.min(thetas_test), np.max(thetas_test), 9) # mean\n",
    "x1 = [1, 1.57, 2, 3.14, 4, 5]\n",
    "\n",
    "p1, p99 = np.percentile(Y_train, [1, 99])\n",
    "y_discr, step = np.linspace(p1, p99, num=1000, retstep=True)\n",
    "y_discr_torch = torch.Tensor(y_discr.reshape((-1, 1)))\n",
    "\n",
    "fig, ax = plt.subplots(nrows=2, ncols=3, figsize=(15,8))\n",
    "axes = ax.flatten()\n",
    "\n",
    "ks_dist_ncp = np.zeros((len(x1), NEXP))\n",
    "ks_dist_nf = np.zeros((len(x1), NEXP))\n",
    "\n",
    "for i, xi in enumerate(x1):\n",
    "    #x_scaled = torch.Tensor(xscaler.transform([x]))\n",
    "    x = np.array([np.cos(xi), np.sin(xi)])\n",
    "    x_scaled = torch.Tensor([np.concatenate([x, np.zeros((d-2))]) @ H])\n",
    "\n",
    "    our_cdfs = np.zeros((NEXP, y_discr.shape[0]))\n",
    "    ddpm_cdfs = np.zeros((NEXP, y_discr.shape[0]))\n",
    "    nf_cdfs = np.zeros((NEXP, y_discr.shape[0]))\n",
    "\n",
    "    for exp in range(NEXP):\n",
    "        ys, cdf_pred_center = best_models[exp].cdf(x_scaled, y_discr_torch, postprocess='whitening')\n",
    "        our_cdfs[exp] = smooth_cdf(ys, cdf_pred_center)\n",
    "\n",
    "        #fys = yscaler.inverse_transform(ys.reshape([-1, 1])).flatten()\n",
    "        fys = ys.copy()\n",
    "\n",
    "        #ddpm_cdfs[exp] = cdf_from_sample(best_models_ddpm[exp], x_scaled, ys)\n",
    "\n",
    "        nf_cdfs[exp] = get_cdf_from_nf(best_models_nf[exp], x_scaled, y_discr_torch)\n",
    "\n",
    "    true_cdf = manifold_cdf(xi, fys)\n",
    "\n",
    "\n",
    "    axes[i].plot(fys, our_cdfs.mean(axis=0), '-ob', label='ours (with whitening)', markevery=40, markersize=5)\n",
    "    for exp in range(NEXP):\n",
    "        axes[i].plot(fys, our_cdfs[exp], '-b', alpha=0.2)\n",
    "\n",
    "    #axes[i].plot(fys, ddpm_cdfs.mean(axis=0), '-vg', label='DDPM',markevery=40, markersize=5)\n",
    "    #for exp in range(NEXP):\n",
    "    #    axes[i].plot(fys, ddpm_cdfs[exp], '-g', alpha=0.2)\n",
    "\n",
    "    axes[i].plot(fys, nf_cdfs.mean(axis=0), '->y', label='NF',markevery=40, markersize=5)\n",
    "    for exp in range(NEXP):\n",
    "        axes[i].plot(fys, ddpm_cdfs[exp], '-y', alpha=0.2)\n",
    "\n",
    "    axes[i].plot(fys, true_cdf, 'r', label='Truth')\n",
    "    \n",
    "    if i==0:\n",
    "        axes[i].legend()\n",
    "\n",
    "    axes[i].set_title(f'theta={round(xi, 3)}')\n",
    "\n",
    "    for exp in range(NEXP):\n",
    "        #print(np.isnan(nf_cdfs[exp]).sum())\n",
    "        ks_dist_ncp[i, exp] = kolmogorov_smirnov(true_cdf, our_cdfs[exp], values=fys)\n",
    "        ks_dist_nf[i, exp] = kolmogorov_smirnov(true_cdf, nf_cdfs[exp], values=fys)\n",
    "\n",
    "del best_models\n",
    "del best_models_nf"
   ]
  },
  {
   "cell_type": "code",
   "execution_count": 9,
   "metadata": {},
   "outputs": [
    {
     "data": {
      "text/html": [
       "<div>\n",
       "<style scoped>\n",
       "    .dataframe tbody tr th:only-of-type {\n",
       "        vertical-align: middle;\n",
       "    }\n",
       "\n",
       "    .dataframe tbody tr th {\n",
       "        vertical-align: top;\n",
       "    }\n",
       "\n",
       "    .dataframe thead th {\n",
       "        text-align: right;\n",
       "    }\n",
       "</style>\n",
       "<table border=\"1\" class=\"dataframe\">\n",
       "  <thead>\n",
       "    <tr style=\"text-align: right;\">\n",
       "      <th></th>\n",
       "      <th>NCP mean</th>\n",
       "      <th>NCP std</th>\n",
       "      <th>NF mean</th>\n",
       "      <th>NF std</th>\n",
       "    </tr>\n",
       "  </thead>\n",
       "  <tbody>\n",
       "    <tr>\n",
       "      <th>1.00</th>\n",
       "      <td>0.057871</td>\n",
       "      <td>0.023059</td>\n",
       "      <td>0.027487</td>\n",
       "      <td>0.013321</td>\n",
       "    </tr>\n",
       "    <tr>\n",
       "      <th>1.57</th>\n",
       "      <td>0.067840</td>\n",
       "      <td>0.020620</td>\n",
       "      <td>0.029441</td>\n",
       "      <td>0.017084</td>\n",
       "    </tr>\n",
       "    <tr>\n",
       "      <th>2.00</th>\n",
       "      <td>0.041691</td>\n",
       "      <td>0.011749</td>\n",
       "      <td>0.022704</td>\n",
       "      <td>0.013567</td>\n",
       "    </tr>\n",
       "    <tr>\n",
       "      <th>3.14</th>\n",
       "      <td>0.041120</td>\n",
       "      <td>0.015993</td>\n",
       "      <td>0.016394</td>\n",
       "      <td>0.007469</td>\n",
       "    </tr>\n",
       "    <tr>\n",
       "      <th>4.00</th>\n",
       "      <td>0.031672</td>\n",
       "      <td>0.021759</td>\n",
       "      <td>0.040313</td>\n",
       "      <td>0.024841</td>\n",
       "    </tr>\n",
       "    <tr>\n",
       "      <th>5.00</th>\n",
       "      <td>0.107762</td>\n",
       "      <td>0.063568</td>\n",
       "      <td>0.099531</td>\n",
       "      <td>0.032443</td>\n",
       "    </tr>\n",
       "  </tbody>\n",
       "</table>\n",
       "</div>"
      ],
      "text/plain": [
       "      NCP mean   NCP std   NF mean    NF std\n",
       "1.00  0.057871  0.023059  0.027487  0.013321\n",
       "1.57  0.067840  0.020620  0.029441  0.017084\n",
       "2.00  0.041691  0.011749  0.022704  0.013567\n",
       "3.14  0.041120  0.015993  0.016394  0.007469\n",
       "4.00  0.031672  0.021759  0.040313  0.024841\n",
       "5.00  0.107762  0.063568  0.099531  0.032443"
      ]
     },
     "execution_count": 9,
     "metadata": {},
     "output_type": "execute_result"
    }
   ],
   "source": [
    "# printing the table for ks distances\n",
    "import pandas\n",
    "\n",
    "m_ncp = ks_dist_ncp.mean(axis=-1)\n",
    "m_nf = ks_dist_nf.mean(axis=-1)\n",
    "std_ncp = ks_dist_ncp.std(axis=-1)\n",
    "std_nf = ks_dist_nf.std(axis=-1)\n",
    "\n",
    "df = pandas.DataFrame(index=x1)\n",
    "df['NCP mean'] = m_ncp\n",
    "df['NCP std'] = std_ncp\n",
    "df['NF mean'] = m_nf\n",
    "df['NF std'] = std_nf\n",
    "\n",
    "df"
   ]
  },
  {
   "cell_type": "code",
   "execution_count": 10,
   "metadata": {},
   "outputs": [
    {
     "data": {
      "text/plain": [
       "',NCP mean,NCP std,NF mean,NF std\\r\\n1.0,0.05787061154842377,0.02305896687081292,0.027486547827720642,0.013321327261929371\\r\\n1.57,0.0678395003080368,0.020619793548463772,0.029440565407276152,0.017083501133961555\\r\\n2.0,0.04169054478406906,0.011748688811466774,0.0227039635181427,0.013566586737217072\\r\\n3.14,0.041119593754410745,0.015992617981980508,0.016393756866455077,0.007469222677835203\\r\\n4.0,0.03167178258299828,0.021758892712511267,0.04031328558921814,0.02484090239640208\\r\\n5.0,0.10776234567165374,0.06356828743240837,0.09953133463859558,0.03244308856810378\\r\\n'"
      ]
     },
     "execution_count": 10,
     "metadata": {},
     "output_type": "execute_result"
    }
   ],
   "source": [
    "df.to_csv()"
   ]
  },
  {
   "cell_type": "code",
   "execution_count": null,
   "metadata": {},
   "outputs": [],
   "source": []
  }
 ],
 "metadata": {
  "kernelspec": {
   "display_name": "koopman",
   "language": "python",
   "name": "python3"
  },
  "language_info": {
   "codemirror_mode": {
    "name": "ipython",
    "version": 3
   },
   "file_extension": ".py",
   "mimetype": "text/x-python",
   "name": "python",
   "nbconvert_exporter": "python",
   "pygments_lexer": "ipython3",
   "version": "3.12.2"
  }
 },
 "nbformat": 4,
 "nbformat_minor": 2
}
