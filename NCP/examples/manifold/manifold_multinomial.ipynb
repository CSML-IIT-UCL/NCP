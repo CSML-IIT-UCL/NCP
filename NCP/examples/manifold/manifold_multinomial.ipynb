{
 "cells": [
  {
   "cell_type": "code",
   "execution_count": 1,
   "metadata": {},
   "outputs": [],
   "source": [
    "from time import time\n",
    "\n",
    "import lightning as L\n",
    "import matplotlib.pyplot as plt\n",
    "import normflows as nf\n",
    "import numpy as np\n",
    "import torch\n",
    "from lightning.pytorch.callbacks.model_checkpoint import ModelCheckpoint\n",
    "from torch.optim import Adam\n",
    "\n",
    "from NCP.examples.tools.plot_utils import setup_plots\n",
    "from NCP.metrics import kolmogorov_smirnov, smooth_cdf\n",
    "from NCP.model import NCPModule, NCPOperator\n",
    "\n",
    "#import normflows as nf\n",
    "# diffusion model imports:\n",
    "from NCP.nn.layers import MLP\n",
    "from NCP.nn.losses import CMELoss\n",
    "from NCP.nn.nf_module import NFModule\n",
    "from NCP.utils import FastTensorDataLoader, from_np\n",
    "\n",
    "setup_plots()\n",
    "\n",
    "# TODO: add them to a utils folder\n",
    "class CustomModelCheckpoint(ModelCheckpoint):\n",
    "    def on_save_checkpoint(self, trainer, pl_module, checkpoint):\n",
    "        X, Y = trainer.model.batch\n",
    "        trainer.model.model._compute_data_statistics(X, Y)\n",
    "\n",
    "def restore_buffers_shape(model, state_dict):\n",
    "    model._sing_val = torch.zeros_like(state_dict['model._sing_val']).to('cpu')\n",
    "    model._sing_vec_l = torch.zeros_like(state_dict['model._sing_vec_l']).to('cpu')\n",
    "    model._sing_vec_r = torch.zeros_like(state_dict['model._sing_vec_r']).to('cpu')\n",
    "\n",
    "\n",
    "np.random.seed(0)\n",
    "torch.manual_seed(0)\n",
    "Ntrain = 50000\n",
    "Nval = 1000         # val dataset will be used to sample the marginal distribution of Y\n",
    "Ntest = 1000\n",
    "\n",
    "device = 'cuda' if torch.cuda.is_available() else 'cpu'\n",
    "\n",
    "NEXP = 1"
   ]
  },
  {
   "cell_type": "code",
   "execution_count": 2,
   "metadata": {},
   "outputs": [],
   "source": [
    "# Common optimizer\n",
    "lr = 1e-3\n",
    "\n",
    "optimizer = Adam\n",
    "optimizer_kwargs = {\n",
    "        'lr': lr\n",
    "        }"
   ]
  },
  {
   "cell_type": "code",
   "execution_count": 10,
   "metadata": {},
   "outputs": [],
   "source": [
    "from sklearn.preprocessing import StandardScaler\n",
    "\n",
    "N = 50000\n",
    "d = 100\n",
    "\n",
    "from scipy.stats import special_ortho_group as sog\n",
    "\n",
    "H = sog.rvs(d)\n",
    "\n",
    "def multinom(q):\n",
    "    return np.sum(np.random.multinomial(1, q) * np.array([1., 2., 3., 4., 5.]))\n",
    "\n",
    "def create_manifold_dataset(N, noise, rng=None):\n",
    "\n",
    "    thetas = np.random.uniform(0, 2*np.pi, N)\n",
    "\n",
    "    X_low_dim = np.concatenate([np.cos(thetas).reshape(-1,1), np.sin(thetas).reshape(-1, 1)], axis=-1)\n",
    "\n",
    "    if noise:\n",
    "        X_low_dim * np.random.uniform(-1.5, 1, N)\n",
    "    X = np.concatenate([X_low_dim, np.zeros((N, d-2))], axis=-1) @ H\n",
    "\n",
    "    Y = np.zeros((X.shape[0], 1))\n",
    "    for i, xi in enumerate(X):\n",
    "        if thetas[i] < np.pi/2:\n",
    "            Y[i] = multinom([1/5]*5)\n",
    "        elif thetas[i] < np.pi:\n",
    "            Y[i] = multinom([0.5, 0.5, 0, 0, 0])\n",
    "        elif thetas[i] < 3*np.pi/2:\n",
    "            Y[i] = multinom([0, 0, 1, 0., 0])\n",
    "        else:\n",
    "            Y[i] = multinom([0, 0, 0, 0.5, 0.5])\n",
    "    Y = Y.reshape((-1,1))\n",
    "\n",
    "    return X,Y, thetas"
   ]
  },
  {
   "cell_type": "code",
   "execution_count": 11,
   "metadata": {},
   "outputs": [],
   "source": [
    "noisy=False\n",
    "\n",
    "xscaler = StandardScaler()\n",
    "yscaler = StandardScaler()\n",
    "\n",
    "X_train, Y_train, thetas_train = create_manifold_dataset(Ntrain, noisy)\n",
    "X_val, Y_val, thetas_val = create_manifold_dataset(Nval, noisy)\n",
    "X_test, Y_test, thetas_test = create_manifold_dataset(Ntest, noisy)\n",
    "\n",
    "X_train_torch = from_np(X_train)\n",
    "Y_train_torch = from_np(Y_train)\n",
    "X_val_torch = from_np(X_val)\n",
    "Y_val_torch = from_np(Y_val)\n",
    "\n",
    "train_dl = FastTensorDataLoader(X_train_torch, Y_train_torch, batch_size=len(X_train_torch), shuffle=False)\n",
    "val_dl = FastTensorDataLoader(X_val_torch, Y_val_torch, batch_size=len(X_val_torch), shuffle=False)"
   ]
  },
  {
   "cell_type": "code",
   "execution_count": 29,
   "metadata": {},
   "outputs": [
    {
     "name": "stderr",
     "output_type": "stream",
     "text": [
      "Seed set to 0\n",
      "GPU available: True (cuda), used: True\n",
      "TPU available: False, using: 0 TPU cores\n",
      "IPU available: False, using: 0 IPUs\n",
      "HPU available: False, using: 0 HPUs\n",
      "LOCAL_RANK: 0 - CUDA_VISIBLE_DEVICES: [0]\n"
     ]
    },
    {
     "name": "stdout",
     "output_type": "stream",
     "text": [
      "Epoch 999: 100%|██████████| 1/1 [00:00<00:00,  3.18it/s, v_num=438, val_loss=-1.48, train_loss=-1.51]      "
     ]
    },
    {
     "name": "stderr",
     "output_type": "stream",
     "text": [
      "`Trainer.fit` stopped: `max_epochs=1000` reached.\n"
     ]
    },
    {
     "name": "stdout",
     "output_type": "stream",
     "text": [
      "Epoch 999: 100%|██████████| 1/1 [00:00<00:00,  3.15it/s, v_num=438, val_loss=-1.48, train_loss=-1.51]\n"
     ]
    }
   ],
   "source": [
    "best_models = {}\n",
    "times_ncp = np.zeros(NEXP)\n",
    "\n",
    "for exp in range(NEXP):\n",
    "\n",
    "    L.seed_everything(exp)\n",
    "\n",
    "    gamma = 1e-4\n",
    "    epochs = int(1e3)\n",
    "    output_shape = 800\n",
    "\n",
    "    MLP_kwargs_U = {\n",
    "        'input_shape': X_train.shape[-1],\n",
    "        'output_shape': output_shape,\n",
    "        'n_hidden': 7,\n",
    "        'layer_size': 258,\n",
    "        'dropout': 0.,\n",
    "        'iterative_whitening': False,\n",
    "        'activation': torch.nn.ReLU\n",
    "    }\n",
    "\n",
    "    MLP_kwargs_V = {\n",
    "        'input_shape': Y_train.shape[-1],\n",
    "        'output_shape': output_shape,\n",
    "        'n_hidden': 7,\n",
    "        'layer_size':258,\n",
    "        'dropout': 0,\n",
    "        'iterative_whitening': False,\n",
    "        'activation': torch.nn.ReLU\n",
    "    }\n",
    "\n",
    "    loss_fn = CMELoss\n",
    "    loss_kwargs = {\n",
    "        'mode': 'split',\n",
    "        'gamma': gamma\n",
    "    }\n",
    "\n",
    "    reg = NCPOperator(U_operator=MLP, V_operator=MLP, U_operator_kwargs=MLP_kwargs_U, V_operator_kwargs=MLP_kwargs_V)\n",
    "\n",
    "    NCP_module = NCPModule(\n",
    "        reg,\n",
    "        optimizer,\n",
    "        optimizer_kwargs,\n",
    "        CMELoss,\n",
    "        loss_kwargs\n",
    "    )\n",
    "\n",
    "    #early_stop = EarlyStopping(monitor=\"val_loss\", patience=500, mode=\"min\")\n",
    "    checkpoint_callback = CustomModelCheckpoint(save_top_k=1, monitor=\"val_loss\", mode=\"min\")\n",
    "\n",
    "    trainer = L.Trainer(**{\n",
    "        'accelerator': device,\n",
    "        'max_epochs': epochs,\n",
    "        'log_every_n_steps': 1,\n",
    "        'enable_progress_bar': True,\n",
    "        'devices': 1,\n",
    "        'enable_checkpointing': True,\n",
    "        'num_sanity_val_steps': 0,\n",
    "        'enable_model_summary': False,\n",
    "        }, callbacks=[checkpoint_callback])\n",
    "\n",
    "    start_time = time()\n",
    "    trainer.fit(NCP_module, train_dataloaders=train_dl, val_dataloaders=val_dl)\n",
    "    times_ncp[exp] = time()-start_time\n",
    "\n",
    "    # recover best model during training\n",
    "    best_model_dict = torch.load(checkpoint_callback.best_model_path)\n",
    "    restore_buffers_shape(reg, best_model_dict['state_dict'])\n",
    "    NCP_module.load_state_dict(best_model_dict['state_dict'])\n",
    "    best_models[exp] = NCP_module.model\n",
    "\n",
    "    del NCP_module\n",
    "    del reg"
   ]
  },
  {
   "cell_type": "code",
   "execution_count": 30,
   "metadata": {},
   "outputs": [
    {
     "name": "stderr",
     "output_type": "stream",
     "text": [
      "Seed set to 0\n",
      "GPU available: True (cuda), used: True\n",
      "TPU available: False, using: 0 TPU cores\n",
      "IPU available: False, using: 0 IPUs\n",
      "HPU available: False, using: 0 HPUs\n",
      "LOCAL_RANK: 0 - CUDA_VISIBLE_DEVICES: [0]\n"
     ]
    },
    {
     "name": "stdout",
     "output_type": "stream",
     "text": [
      "Epoch 499: 100%|██████████| 1/1 [00:00<00:00,  8.02it/s, v_num=439, val_loss=-0.337, train_loss=-0.692]   "
     ]
    },
    {
     "name": "stderr",
     "output_type": "stream",
     "text": [
      "`Trainer.fit` stopped: `max_epochs=500` reached.\n"
     ]
    },
    {
     "name": "stdout",
     "output_type": "stream",
     "text": [
      "Epoch 499: 100%|██████████| 1/1 [00:00<00:00,  7.83it/s, v_num=439, val_loss=-0.337, train_loss=-0.692]\n"
     ]
    }
   ],
   "source": [
    "best_models_nf = {}\n",
    "times_nf = np.zeros(NEXP)\n",
    "\n",
    "for exp in range(NEXP):\n",
    "    L.seed_everything(exp)\n",
    "\n",
    "    base = nf.distributions.base.DiagGaussian(1)\n",
    "\n",
    "    num_flows = 2\n",
    "    latent_size = 1\n",
    "    hidden_units = 128\n",
    "    num_blocks = 3\n",
    "    flows = []\n",
    "    for i in range(num_flows):\n",
    "        flows += [nf.flows.AutoregressiveRationalQuadraticSpline(latent_size, num_blocks, hidden_units,\n",
    "                                                    num_context_channels=X_train.shape[-1])]\n",
    "        flows += [nf.flows.LULinearPermute(latent_size)]\n",
    "\n",
    "    # If the target density is not given\n",
    "    model = nf.ConditionalNormalizingFlow(base, flows)\n",
    "\n",
    "    nf_module = NFModule(model,\n",
    "        optimizer,\n",
    "        optimizer_kwargs)\n",
    "\n",
    "    checkpoint_callback_vanilla = ModelCheckpoint(monitor=\"val_loss\", mode=\"min\")\n",
    "\n",
    "    trainer = L.Trainer(**{\n",
    "        'accelerator': device,\n",
    "        'max_epochs': int(5e2),\n",
    "        'log_every_n_steps': 1,\n",
    "        'enable_progress_bar': True,\n",
    "        'devices': 1,\n",
    "        'enable_checkpointing': True,\n",
    "        'num_sanity_val_steps': 0,\n",
    "        'enable_model_summary': False,\n",
    "        }, callbacks=[checkpoint_callback_vanilla])\n",
    "\n",
    "    start_time = time()\n",
    "    trainer.fit(nf_module, train_dataloaders=train_dl, val_dataloaders=val_dl)\n",
    "    times_nf[exp] = time()-start_time\n",
    "\n",
    "    checkpoint_callback_vanilla.best_model_path\n",
    "    best_model_dict = torch.load(checkpoint_callback_vanilla.best_model_path)\n",
    "    nf_module.load_state_dict(best_model_dict['state_dict'])\n",
    "\n",
    "    best_models_nf[exp] = nf_module.model"
   ]
  },
  {
   "cell_type": "code",
   "execution_count": 31,
   "metadata": {},
   "outputs": [],
   "source": [
    "# todo: plot different cdfs, replicate plots from linCDE\n",
    "\n",
    "def manifold_cdf(theta, fys):\n",
    "    if theta < np.pi/2:\n",
    "        return ((fys > 1).astype(int) + (fys > 2).astype(int) + (fys > 3).astype(int) + (fys > 4).astype(int) + (fys > 5).astype(int))/5\n",
    "    elif theta < np.pi:\n",
    "        return 0.5*(fys > 1).astype(int) + 0.5*(fys > 2).astype(int)\n",
    "    elif theta < 3*np.pi/2:\n",
    "        return  (fys > 3).astype(int)\n",
    "    else:\n",
    "        return ((fys > 4).astype(int) + (fys > 5).astype(int))/2\n",
    "\n",
    "def get_emp_dist(discr_data, ys):\n",
    "    support = list(set(list(discr_data.flatten())))\n",
    "    p = np.zeros(ys.shape[0])\n",
    "    j = 0\n",
    "    for i, y in enumerate(ys):\n",
    "        if y >= support[j]:\n",
    "            p[i] = np.sum((discr_data == support[j]))/discr_data.shape[0]\n",
    "            j += 1\n",
    "        if j == len(support):\n",
    "            break\n",
    "    return p\n",
    "\n",
    "def get_pdf_from_nf(model:nf.ConditionalNormalizingFlow, x, ys):\n",
    "    # since only one x, duplicate\n",
    "    xs = x.repeat(ys.size()[0], 1)\n",
    "    log_prob = model.log_prob(ys, xs).detach().cpu().numpy()\n",
    "    return np.exp(log_prob)\n",
    "\n",
    "def get_cdf_from_nf(model:nf.ConditionalNormalizingFlow, x, ys):\n",
    "    # supposing that ys is computed from linspace\n",
    "    prob = get_pdf_from_nf(model, x, torch.Tensor(ys))\n",
    "    ys_bis = ys.numpy().flatten()\n",
    "    return np.concatenate([[0], np.cumsum(prob[1:])*(ys_bis[1:] - ys_bis[:-1])])"
   ]
  },
  {
   "cell_type": "code",
   "execution_count": 32,
   "metadata": {},
   "outputs": [
    {
     "data": {
      "image/png": "[encoded data removed]",
      "text/plain": [
       "<Figure size 1500x800 with 6 Axes>"
      ]
     },
     "metadata": {},
     "output_type": "display_data"
    }
   ],
   "source": [
    "#x1 = np.linspace(np.min(thetas_test), np.max(thetas_test), 9) # mean\n",
    "x1 = [1, 1.57, 2, 3.14, 4, 5]\n",
    "\n",
    "p1, p99 = 0, 6\n",
    "y_discr, step = np.linspace(p1, p99, num=601, retstep=True)\n",
    "y_discr_torch = torch.Tensor(y_discr.reshape((-1, 1)))\n",
    "\n",
    "probas = get_emp_dist(Y_test, y_discr)\n",
    "\n",
    "fig, ax = plt.subplots(nrows=2, ncols=3, figsize=(15,8))\n",
    "axes = ax.flatten()\n",
    "\n",
    "ks_dist_ncp = np.zeros((len(x1), NEXP))\n",
    "ks_dist_nf = np.zeros((len(x1), NEXP))\n",
    "\n",
    "for i, xi in enumerate(x1):\n",
    "    x = np.array([np.cos(xi), np.sin(xi)])\n",
    "    x_scaled = torch.Tensor([np.concatenate([x, np.zeros((d-2))]) @ H])\n",
    "\n",
    "    our_cdfs = np.zeros((NEXP, y_discr.shape[0]))\n",
    "    nf_cdfs = np.zeros((NEXP, y_discr.shape[0]))\n",
    "\n",
    "    for exp in range(NEXP):\n",
    "        ys, cdf_pred_center = best_models[exp].cdf(x_scaled, y_discr_torch, probas=probas, postprocess='whitening')\n",
    "        our_cdfs[exp] = smooth_cdf(ys, cdf_pred_center)\n",
    "\n",
    "        fys = ys.copy()\n",
    "\n",
    "        nf_cdfs[exp] = get_cdf_from_nf(best_models_nf[exp], x_scaled, y_discr_torch)\n",
    "\n",
    "    true_cdf = manifold_cdf(xi, fys)\n",
    "    axes[i].plot(fys, our_cdfs.mean(axis=0), '-ob', label='ours (with whitening)', markevery=40, markersize=5)\n",
    "    for exp in range(NEXP):\n",
    "        axes[i].plot(fys, our_cdfs[exp], '-b', alpha=0.2)\n",
    "\n",
    "    axes[i].plot(fys, np.minimum(nf_cdfs.mean(axis=0), 1), '->y', label='NF',markevery=40, markersize=5)\n",
    "\n",
    "    axes[i].plot(fys, true_cdf, 'r', label='Truth')\n",
    "\n",
    "    if i==0:\n",
    "        axes[i].legend()\n",
    "\n",
    "    axes[i].set_title(f'theta={round(xi, 3)}')\n",
    "\n",
    "\n",
    "    for exp in range(NEXP):\n",
    "        #print(np.isnan(nf_cdfs[exp]).sum())\n",
    "        ks_dist_ncp[i, exp] = kolmogorov_smirnov(true_cdf, our_cdfs[exp], values=fys)\n",
    "        ks_dist_nf[i, exp] = kolmogorov_smirnov(true_cdf, nf_cdfs[exp], values=fys)"
   ]
  },
  {
   "cell_type": "code",
   "execution_count": 9,
   "metadata": {},
   "outputs": [
    {
     "ename": "NameError",
     "evalue": "name 'df' is not defined",
     "output_type": "error",
     "traceback": [
      "\u001b[1;31m---------------------------------------------------------------------------\u001b[0m",
      "\u001b[1;31mNameError\u001b[0m                                 Traceback (most recent call last)",
      "Cell \u001b[1;32mIn[9], line 1\u001b[0m\n\u001b[1;32m----> 1\u001b[0m \u001b[43mdf\u001b[49m\u001b[38;5;241m.\u001b[39mto_csv()\n",
      "\u001b[1;31mNameError\u001b[0m: name 'df' is not defined"
     ]
    }
   ],
   "source": [
    "df.to_csv()"
   ]
  },
  {
   "cell_type": "code",
   "execution_count": null,
   "metadata": {},
   "outputs": [],
   "source": []
  }
 ],
 "metadata": {
  "kernelspec": {
   "display_name": "koopman",
   "language": "python",
   "name": "python3"
  },
  "language_info": {
   "codemirror_mode": {
    "name": "ipython",
    "version": 3
   },
   "file_extension": ".py",
   "mimetype": "text/x-python",
   "name": "python",
   "nbconvert_exporter": "python",
   "pygments_lexer": "ipython3",
   "version": "3.12.2"
  }
 },
 "nbformat": 4,
 "nbformat_minor": 2
}
