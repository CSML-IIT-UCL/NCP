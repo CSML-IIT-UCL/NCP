{
 "cells": [
  {
   "cell_type": "code",
   "execution_count": 1,
   "metadata": {},
   "outputs": [],
   "source": [
    "import numpy as np\n",
    "import torch\n",
    "from torch.optim import Adam, SGD\n",
    "import matplotlib.pyplot as plt\n",
    "from NCP.model import NCPOperator, NCPModule\n",
    "from NCP.nn.layers import MLP\n",
    "from NCP.nn.losses import CMELoss\n",
    "from NCP.utils import frnp, FastTensorDataLoader\n",
    "import lightning as L\n",
    "from lightning.pytorch.callbacks.early_stopping import EarlyStopping\n",
    "from lightning.pytorch.callbacks.model_checkpoint import ModelCheckpoint\n",
    "\n",
    "\n",
    "import matplotlib.pyplot as plt\n",
    "import matplotlib.animation as animation\n"
   ]
  },
  {
   "cell_type": "markdown",
   "metadata": {},
   "source": [
    "#1. generating rotating covariance dataset:"
   ]
  },
  {
   "cell_type": "code",
   "execution_count": 55,
   "metadata": {},
   "outputs": [
    {
     "name": "stderr",
     "output_type": "stream",
     "text": [
      "C:\\Users\\Grégoire\\AppData\\Local\\Temp\\ipykernel_10312\\1122875652.py:21: RuntimeWarning: covariance is not symmetric positive-semidefinite.\n",
      "  y[i] = np.random.multivariate_normal(mean, rot@cov_t0)\n"
     ]
    }
   ],
   "source": [
    "N_train = 10000\n",
    "N_val = 1000\n",
    "N_test = 1000\n",
    "\n",
    "w = 20 # discretisation size\n",
    "theta = np.pi/w # angle discretisation\n",
    "rotation = np.array([[np.cos(theta), -np.sin(theta)], [np.sin(theta), np.cos(theta)]])\n",
    "\n",
    "X_train = np.random.uniform(0, np.pi, size=(N_train))\n",
    "X_val = np.random.uniform(0, np.pi, size=(N_val))\n",
    "X_test = np.random.uniform(0, np.pi, size=(N_test))\n",
    "\n",
    "cov_t0 = np.array([[2, 0], [0, 0.5]])\n",
    "mean = np.array([0,0])\n",
    "\n",
    "def compute_y(X):\n",
    "    y = np.zeros((X.shape[0], 2))\n",
    "    for i, xi in enumerate(X):\n",
    "        n_rot = int(xi//theta)\n",
    "        rot = np.linalg.matrix_power(rotation, n_rot)\n",
    "        y[i] = np.random.multivariate_normal(mean, rot@cov_t0)\n",
    "    return y\n",
    "\n",
    "Y_train = compute_y(X_train)\n",
    "Y_val = compute_y(X_val)\n",
    "Y_test = compute_y(X_test)"
   ]
  },
  {
   "cell_type": "code",
   "execution_count": null,
   "metadata": {},
   "outputs": [],
   "source": [
    "def cov_to_ellipse(cov, T):\n",
    "    eig_val, eig_vec = np.linalg.eigh(cov)\n",
    "    eig_val = np.sqrt(eig_val)\n",
    "    \n",
    "    xy = np.stack((np.cos(T), np.sin(T)), axis=-1)\n",
    "\n",
    "    return eig_vec @ (eig_val * xy).T"
   ]
  },
  {
   "cell_type": "code",
   "execution_count": 56,
   "metadata": {},
   "outputs": [
    {
     "name": "stderr",
     "output_type": "stream",
     "text": [
      "C:\\Users\\Grégoire\\AppData\\Local\\Temp\\ipykernel_10312\\2261629245.py:26: UserWarning: frames=None which we can infer the length of, did not pass an explicit *save_count* and passed cache_frame_data=True.  To avoid a possibly unbounded cache, frame data caching has been disabled. To suppress this warning either pass `cache_frame_data=False` or `save_count=MAX_FRAMES`.\n",
      "  ani = animation.FuncAnimation(fig, updatefig,  blit=False)\n",
      "d:\\Gregoire\\anaconda3\\envs\\koopman\\Lib\\site-packages\\matplotlib\\animation.py:892: UserWarning: Animation was deleted without rendering anything. This is most likely not intended. To prevent deletion, assign the Animation to a variable, e.g. `anim`, that exists until you output the Animation using `plt.show()` or `anim.save()`.\n",
      "  warnings.warn(\n"
     ]
    },
    {
     "data": {
      "image/png": "[encoded data removed]",
      "text/plain": [
       "<Figure size 500x500 with 1 Axes>"
      ]
     },
     "metadata": {},
     "output_type": "display_data"
    }
   ],
   "source": [
    "# animation of the covariance:\n",
    "\n",
    "X_sorted = np.argsort(X_train)\n",
    "bins = X_sorted//theta\n",
    "\n",
    "fig = plt.figure(figsize=(5,5))\n",
    "plt.xlim(-2.1, 2.1)\n",
    "plt.ylim(-2.1, 2.1)\n",
    "i=1\n",
    "im1 = plt.scatter(Y_train[bins==1][:,0], Y_train[bins==1][:,1])\n",
    "T = np.linspace(0, 2*np.pi, 100)\n",
    "im2, = plt.plot(*cov_to_ellipse(cov_t0, T))\n",
    "def updatefig(*args):\n",
    "    global i\n",
    "    if (i<=np.max(bins)):\n",
    "        i += 1\n",
    "    else:\n",
    "        i=1\n",
    "    vals = (bins == i)\n",
    "    rot = np.linalg.matrix_power(rotation, i)\n",
    "    im1.set_offsets(Y_train[vals])\n",
    "    im2.set_data(cov_to_ellipse(cov_t0)@rot)\n",
    "    return im1\n",
    "ani = animation.FuncAnimation(fig, updatefig,  blit=False)\n",
    "plt.show()"
   ]
  },
  {
   "cell_type": "code",
   "execution_count": 57,
   "metadata": {},
   "outputs": [],
   "source": [
    "X_train_torch = frnp(X_train.reshape((-1, 1)))\n",
    "Y_train_torch = frnp(Y_train)\n",
    "X_val_torch = frnp(X_val.reshape((-1, 1)))\n",
    "Y_val_torch = frnp(Y_val)\n",
    "\n",
    "train_dl = FastTensorDataLoader(X_train_torch, Y_train_torch, batch_size=len(X_train_torch), shuffle=False)\n",
    "val_dl = FastTensorDataLoader(X_val_torch, Y_val_torch, batch_size=len(X_val_torch), shuffle=False)\n",
    "\n",
    "# TODO: add them to a utils folder\n",
    "class CustomModelCheckpoint(ModelCheckpoint):\n",
    "    def on_save_checkpoint(self, trainer, pl_module, checkpoint):\n",
    "        X, Y = trainer.model.batch\n",
    "        trainer.model.model._compute_data_statistics(X, Y)\n",
    "\n",
    "def restore_buffers_shape(model, state_dict):\n",
    "    model._sing_val = torch.zeros_like(state_dict['model._sing_val']).to('cpu')\n",
    "    model._sing_vec_l = torch.zeros_like(state_dict['model._sing_vec_l']).to('cpu')\n",
    "    model._sing_vec_r = torch.zeros_like(state_dict['model._sing_vec_r']).to('cpu')\n"
   ]
  },
  {
   "cell_type": "code",
   "execution_count": 58,
   "metadata": {},
   "outputs": [
    {
     "name": "stderr",
     "output_type": "stream",
     "text": [
      "Seed set to 0\n",
      "GPU available: True (cuda), used: True\n",
      "TPU available: False, using: 0 TPU cores\n",
      "IPU available: False, using: 0 IPUs\n",
      "HPU available: False, using: 0 HPUs\n",
      "LOCAL_RANK: 0 - CUDA_VISIBLE_DEVICES: [0]\n"
     ]
    },
    {
     "name": "stdout",
     "output_type": "stream",
     "text": [
      "Epoch 171: 100%|██████████| 1/1 [00:00<00:00, 28.65it/s, v_num=41, val_loss=0.00168, train_loss=-0.00267]  \n"
     ]
    }
   ],
   "source": [
    "# Common optimizer\n",
    "lr = 1e-3\n",
    "\n",
    "optimizer = Adam\n",
    "optimizer_kwargs = {\n",
    "        'lr': lr\n",
    "        }\n",
    "\n",
    "device = 'cuda' if torch.cuda.is_available() else 'cpu'\n",
    "\n",
    "L.seed_everything(0)\n",
    "\n",
    "gamma = 2e-2\n",
    "epochs = int(5e3)\n",
    "output_shape = 100\n",
    "\n",
    "MLP_kwargs_U = {\n",
    "    'input_shape': X_train_torch.shape[-1],\n",
    "    'output_shape': output_shape,\n",
    "    'n_hidden': 3,\n",
    "    'layer_size': [32, 64, 128],\n",
    "    'dropout': 0.,\n",
    "    'iterative_whitening': False,\n",
    "    'activation': torch.nn.ReLU\n",
    "}\n",
    "\n",
    "MLP_kwargs_V = {\n",
    "    'input_shape': Y_train_torch.shape[-1],\n",
    "    'output_shape': output_shape,\n",
    "    'n_hidden': 3,\n",
    "    'layer_size':[8, 16, 32],\n",
    "    'dropout': 0,\n",
    "    'iterative_whitening': False,\n",
    "    'activation': torch.nn.ReLU\n",
    "}\n",
    "\n",
    "loss_fn = CMELoss\n",
    "loss_kwargs = {\n",
    "    'mode': 'split',\n",
    "    'gamma': gamma\n",
    "}\n",
    "\n",
    "reg = NCPOperator(U_operator=MLP, V_operator=MLP, U_operator_kwargs=MLP_kwargs_U, V_operator_kwargs=MLP_kwargs_V)\n",
    "\n",
    "NCP_module = NCPModule(\n",
    "    reg,\n",
    "    optimizer,\n",
    "    optimizer_kwargs,\n",
    "    CMELoss,\n",
    "    loss_kwargs\n",
    ")\n",
    "\n",
    "early_stop = EarlyStopping(monitor=\"val_loss\", patience=100, mode=\"min\")\n",
    "checkpoint_callback = CustomModelCheckpoint(save_top_k=1, monitor=\"val_loss\", mode=\"min\")\n",
    "\n",
    "trainer = L.Trainer(**{\n",
    "    'accelerator': device,\n",
    "    'max_epochs': epochs,\n",
    "    'log_every_n_steps': 1,\n",
    "    'enable_progress_bar': True,\n",
    "    'devices': 1,\n",
    "    'enable_checkpointing': True,\n",
    "    'num_sanity_val_steps': 0,\n",
    "    'enable_model_summary': False,\n",
    "    }, callbacks=[early_stop, checkpoint_callback])\n",
    "\n",
    "trainer.fit(NCP_module, train_dataloaders=train_dl, val_dataloaders=val_dl)\n",
    "\n",
    "# recover best model during training\n",
    "best_model_dict = torch.load(checkpoint_callback.best_model_path)\n",
    "restore_buffers_shape(reg, best_model_dict['state_dict'])\n",
    "NCP_module.load_state_dict(best_model_dict['state_dict'])\n",
    "best_model = NCP_module.model"
   ]
  },
  {
   "cell_type": "markdown",
   "metadata": {},
   "source": [
    "Compute conditional covariance by convolution with gaussian kernel\n",
    "\n",
    "Cov(Y |X ∈ A) = Cov(Y ) + ⟨1A, [(1dy ⊗ 1dy ) ⊗ DY |X ]h ⊗ h⟩/P[X ∈ A]\n",
    "− ⟨1A, [1dy ⊗ DY |X ]h⟩ ⊗ ⟨1A, [1dy ⊗ DY |X ]h⟩/(P[X ∈ A])2"
   ]
  },
  {
   "cell_type": "code",
   "execution_count": 51,
   "metadata": {},
   "outputs": [],
   "source": [
    "from sklearn.gaussian_process.kernels import RBF\n",
    "\n",
    "def compute_covariance(model, X0, x_discr, y_discr, h=0.1):\n",
    "    #only works for 2D data\n",
    "    kernel = RBF(length_scale=h)([X0], x_discr).flatten()\n",
    "    kernel /= np.sum(kernel)\n",
    "\n",
    "    eyx = model.conditional_expectation(x_discr, y_discr, postprocess='whitening')\n",
    "    ey2x = model.conditional_expectation(x_discr, y_discr, observable=torch.square, postprocess='whitening')\n",
    "    cross = lambda x: (x[:,1]*x[:,0]).unsqueeze(1)\n",
    "    eycrossx = model.conditional_expectation(x_discr, y_discr, observable=cross, postprocess='whitening')\n",
    "\n",
    "    eyx = np.sum(eyx*np.tile(kernel, ( y_discr.shape[-1], 1)).T, axis=0)\n",
    "    ey2x = np.sum(ey2x*np.tile(kernel, ( y_discr.shape[-1], 1)).T,axis=0)\n",
    "    eycrossx = np.sum(eycrossx*kernel)\n",
    "    centered_cov = np.eye(2) * ey2x + (1-np.eye(2))*eycrossx\n",
    "\n",
    "    cross_expectation= np.outer(eyx.T, eyx)\n",
    "\n",
    "    return centered_cov - cross_expectation"
   ]
  },
  {
   "cell_type": "code",
   "execution_count": 59,
   "metadata": {},
   "outputs": [
    {
     "name": "stdout",
     "output_type": "stream",
     "text": [
      "[[ 2.21095102 -3.04253172]\n",
      " [-3.04253172  0.53767581]]\n",
      "[[5.41868415e-03 8.11953491e-05]\n",
      " [8.11953491e-05 1.21665787e-06]]\n"
     ]
    },
    {
     "data": {
      "text/plain": [
       "array([[ 2.20553234, -3.04261292],\n",
       "       [-3.04261292,  0.53767459]])"
      ]
     },
     "execution_count": 59,
     "metadata": {},
     "output_type": "execute_result"
    }
   ],
   "source": [
    "compute_covariance(best_model, 0.5, np.linspace(0,1,100).reshape((-1,1)), Y_train_torch)"
   ]
  },
  {
   "cell_type": "code",
   "execution_count": null,
   "metadata": {},
   "outputs": [],
   "source": []
  }
 ],
 "metadata": {
  "kernelspec": {
   "display_name": "koopman",
   "language": "python",
   "name": "python3"
  },
  "language_info": {
   "codemirror_mode": {
    "name": "ipython",
    "version": 3
   },
   "file_extension": ".py",
   "mimetype": "text/x-python",
   "name": "python",
   "nbconvert_exporter": "python",
   "pygments_lexer": "ipython3",
   "version": "3.12.2"
  }
 },
 "nbformat": 4,
 "nbformat_minor": 2
}
